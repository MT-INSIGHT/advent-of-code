{
 "cells": [
  {
   "cell_type": "code",
   "execution_count": 2,
   "id": "bfc55f09-9845-4f48-aa85-3caea56b44c2",
   "metadata": {
    "tags": []
   },
   "outputs": [],
   "source": [
    "import math"
   ]
  },
  {
   "cell_type": "code",
   "execution_count": 16,
   "id": "17dc3833-ee69-4028-bd4b-25b4f3b3a776",
   "metadata": {
    "tags": []
   },
   "outputs": [],
   "source": [
    "data = open('data/day18.txt', 'r').read()  # All 'S' need to be replaced with 'SS'"
   ]
  },
  {
   "cell_type": "code",
   "execution_count": 4,
   "id": "5b8c220d-2cae-41b8-8a92-5262c5ea1faf",
   "metadata": {
    "tags": []
   },
   "outputs": [],
   "source": [
    "example = \"\"\"R 6 (#70c710)\n",
    "D 5 (#0dc571)\n",
    "L 2 (#5713f0)\n",
    "D 2 (#d2c081)\n",
    "R 2 (#59c680)\n",
    "D 2 (#411b91)\n",
    "L 5 (#8ceee2)\n",
    "U 2 (#caa173)\n",
    "L 1 (#1b58a2)\n",
    "U 2 (#caa171)\n",
    "R 2 (#7807d2)\n",
    "U 3 (#a77fa3)\n",
    "L 2 (#015232)\n",
    "U 2 (#7a21e3)\"\"\""
   ]
  },
  {
   "cell_type": "code",
   "execution_count": 59,
   "id": "ccb4a1da-8325-4d6c-a494-9b1b75fab9a6",
   "metadata": {
    "tags": []
   },
   "outputs": [],
   "source": [
    "def create_grid(data):\n",
    "    movements = {'U': (-1, 0), 'R': (0, 1), 'D': (1, 0), 'L': (0, -1)}\n",
    "    coords = [(0, 0)]\n",
    "    curr_coord = (0, 0)\n",
    "    \n",
    "    # Get all grid coordinates\n",
    "    for line in data.split('\\n'):\n",
    "        direction, steps, color = line.split(' ')\n",
    "        row_movement, col_movement = movements[direction]\n",
    "        for i in range(int(steps)):\n",
    "            curr_row, curr_col = curr_coord\n",
    "            new_coord = (curr_row + row_movement, curr_col + col_movement)\n",
    "            coords.append(new_coord)\n",
    "            curr_coord = new_coord\n",
    "            \n",
    "    # Adjust all grid coordinates\n",
    "    border = set(coords)\n",
    "    rows = [row for (row, col) in border]\n",
    "    cols = [col for (row, col) in border]\n",
    "    min_row, min_col = min(rows), min(cols)\n",
    "    row_adder = abs(min_row) if min_row < 0 else 0\n",
    "    col_adder = abs(min_col) if min_col < 0 else 0\n",
    "    adjusted_border = [(row + row_adder, col + col_adder) for (row, col) in border]      \n",
    "            \n",
    "    # Create grid\n",
    "    row_bound = max([row for (row, col) in adjusted_border]) + 1\n",
    "    col_bound = max([col for (row, col) in adjusted_border]) + 1\n",
    "    grid = [['#' if (row, col) in adjusted_border else '.' for col in range(col_bound)] for row in range(row_bound)]\n",
    "       \n",
    "    return grid, adjusted_border"
   ]
  },
  {
   "cell_type": "code",
   "execution_count": 60,
   "id": "eff1d157-532e-40c6-92c1-384d9d1cdaf8",
   "metadata": {
    "tags": []
   },
   "outputs": [],
   "source": [
    "def is_interior_tile(grid, row, col):\n",
    "    \"\"\"\n",
    "    Validate whether the given tile is an interior tile    \n",
    "    If it crosses an odd # of boundary lines, it's an inside tile\n",
    "    If it crosses an even # of boundary lines, it's an outside tile\n",
    "    \"\"\"\n",
    "    lines_crossed = 0\n",
    "    curr_col = col\n",
    "    \n",
    "    # Count the # of times the point crosses a vertical line going to the left boundary\n",
    "    while curr_col >= 0:\n",
    "        if grid[row][curr_col] in ['J', '|', 'L']:\n",
    "            lines_crossed += 1\n",
    "        curr_col -= 1\n",
    "        \n",
    "    return (lines_crossed % 2 != 0)"
   ]
  },
  {
   "cell_type": "code",
   "execution_count": 61,
   "id": "a8cb0095-ca4d-4220-83dc-e8b1852e1d20",
   "metadata": {
    "tags": []
   },
   "outputs": [],
   "source": [
    "def define_interior(grid, border):\n",
    "    movements = {'U': (-1, 0), 'R': (0, 1), 'D': (1, 0), 'L': (0, -1)}\n",
    "    pipes = {'D|U': '|', 'L|R':  '-', 'R|U': 'L', 'L|U': 'J', 'D|L': '7', 'D|R': 'F'}\n",
    "\n",
    "    # Swap out # for their appropriate pipes\n",
    "    new_grid = [['.' for col in range(len(grid[row]))] for row in range(len(grid))]\n",
    "    for (row, col) in border:\n",
    "        # Find neighbors\n",
    "        potential_neighbors = [(direction, (row + row_movement, col + col_movement)) \n",
    "                               for (direction, (row_movement, col_movement)) in movements.items()]\n",
    "        neighbor_directions = [direction for (direction, (row, col)) in potential_neighbors if (row, col) in border]\n",
    "        # Define pipe type\n",
    "        new_grid[row][col] = pipes['|'.join(sorted(neighbor_directions))]\n",
    "    \n",
    "    # Define interior coordinates\n",
    "    interior_coords = []\n",
    "    for row in range(len(new_grid)):\n",
    "        for col in range(len(new_grid[row])):\n",
    "            if new_grid[row][col] == '.':\n",
    "                if is_interior_tile(new_grid, row, col):\n",
    "                    interior_coords.append((row, col))\n",
    "                    new_grid[row][col] = '#'\n",
    "                    \n",
    "    return new_grid, interior_coords\n",
    "        "
   ]
  },
  {
   "cell_type": "code",
   "execution_count": 62,
   "id": "4583d97d-0ab3-41b4-b754-c7872235a4a0",
   "metadata": {
    "tags": []
   },
   "outputs": [],
   "source": [
    "def part1(data):\n",
    "    grid, border = create_grid(data)\n",
    "    new_grid, interior_coords = define_interior(grid, border)\n",
    "    \n",
    "    return len(border) + len(interior_coords)"
   ]
  },
  {
   "cell_type": "code",
   "execution_count": 63,
   "id": "2f552ef8-c03d-44c3-aab5-d36eceb7a7e5",
   "metadata": {
    "tags": []
   },
   "outputs": [
    {
     "data": {
      "text/plain": [
       "58550"
      ]
     },
     "execution_count": 63,
     "metadata": {},
     "output_type": "execute_result"
    }
   ],
   "source": [
    "part1(data)"
   ]
  },
  {
   "cell_type": "code",
   "execution_count": 258,
   "id": "e8df76d3-897d-4d77-9529-96a7009a4734",
   "metadata": {
    "tags": []
   },
   "outputs": [],
   "source": [
    "def get_corners(data):\n",
    "    directions = {'0': 'R', '1': 'D', '2': 'L', '3': 'U'}\n",
    "    \n",
    "    coords = [(0, 0)]\n",
    "    curr_coord = (0, 0)\n",
    "    \n",
    "    # Get all grid coordinates\n",
    "    corners = []\n",
    "    num_boundary_points = 0\n",
    "    for line in data.split('\\n'):\n",
    "        hex_code = line.split(' ')[-1]\n",
    "        steps = int(hex_code[2:-2], 16)\n",
    "        direction = directions[hex_code[-2]]\n",
    "        curr_row, curr_col = curr_coord\n",
    "        if direction == 'R':\n",
    "            curr_coord = curr_row, curr_col + steps\n",
    "        elif direction == 'L':\n",
    "            curr_coord = curr_row, curr_col - steps\n",
    "        elif direction == 'U':\n",
    "            curr_coord = curr_row - steps, curr_col\n",
    "        else:\n",
    "            curr_coord = curr_row + steps, curr_col\n",
    "        corners.append(curr_coord)\n",
    "        num_boundary_points += steps\n",
    "\n",
    "    return corners, num_boundary_points"
   ]
  },
  {
   "cell_type": "code",
   "execution_count": 263,
   "id": "00bdadc6-1135-4d3a-8ebe-e0b41c4051fe",
   "metadata": {
    "tags": []
   },
   "outputs": [],
   "source": [
    "def shoelace_theorem(corners):\n",
    "    \"\"\"\n",
    "    Calculates the area of a polygon given it's vertices\n",
    "    \"\"\"\n",
    "    rows = [row for (row, col) in corners]\n",
    "    cols = [col for (row, col) in corners]\n",
    "    \n",
    "    return 0.5 * abs(sum(np.array(rows, dtype='int64') * np.array(cols[1:] + cols[:1], dtype='int64')) - sum(np.array(cols, dtype='int64') * np.array(rows[1:] + rows[:1], dtype='int64')))"
   ]
  },
  {
   "cell_type": "code",
   "execution_count": 264,
   "id": "0ba91d96-c8e3-4395-995b-829aaa01fb35",
   "metadata": {
    "tags": []
   },
   "outputs": [],
   "source": [
    "def find_num_interior_points(area, num_boundary_points):\n",
    "    \"\"\"\n",
    "    Utilizes Pick's Theorem - Area = Interior Points + 1/2 Boundary Points - 1\n",
    "    \"\"\"\n",
    "    return area + 1 - 0.5 * num_boundary_points"
   ]
  },
  {
   "cell_type": "code",
   "execution_count": 265,
   "id": "e4c0e3a4-8406-450a-9a74-a95164dea263",
   "metadata": {
    "tags": []
   },
   "outputs": [],
   "source": [
    "def part2(data):\n",
    "    corners, num_boundary_points = get_corners(data)\n",
    "    area = shoelace_theorem(corners)\n",
    "    num_interior_points = find_num_interior_points(area, num_boundary_points)\n",
    "    total_points = num_boundary_points + num_interior_points\n",
    "    \n",
    "    return total_points"
   ]
  },
  {
   "cell_type": "code",
   "execution_count": 267,
   "id": "de09e6c3-f848-48bb-8569-4037b94b9f51",
   "metadata": {
    "tags": []
   },
   "outputs": [
    {
     "data": {
      "text/plain": [
       "47452118468566.0"
      ]
     },
     "execution_count": 267,
     "metadata": {},
     "output_type": "execute_result"
    }
   ],
   "source": [
    "part2(data)"
   ]
  },
  {
   "cell_type": "code",
   "execution_count": null,
   "id": "56b50d31-63d0-4ea9-af65-2d7d2159f90e",
   "metadata": {},
   "outputs": [],
   "source": []
  }
 ],
 "metadata": {
  "kernelspec": {
   "display_name": "Python 3 (ipykernel)",
   "language": "python",
   "name": "python3"
  },
  "language_info": {
   "codemirror_mode": {
    "name": "ipython",
    "version": 3
   },
   "file_extension": ".py",
   "mimetype": "text/x-python",
   "name": "python",
   "nbconvert_exporter": "python",
   "pygments_lexer": "ipython3",
   "version": "3.10.11"
  }
 },
 "nbformat": 4,
 "nbformat_minor": 5
}
