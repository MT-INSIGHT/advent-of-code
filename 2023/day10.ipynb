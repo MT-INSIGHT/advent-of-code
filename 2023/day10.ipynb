{
 "cells": [
  {
   "cell_type": "code",
   "execution_count": 1,
   "id": "32607512-ac68-4afb-9490-ba2a2b4ec8ad",
   "metadata": {
    "tags": []
   },
   "outputs": [],
   "source": [
    "import math"
   ]
  },
  {
   "cell_type": "code",
   "execution_count": 2,
   "id": "17dc3833-ee69-4028-bd4b-25b4f3b3a776",
   "metadata": {
    "tags": []
   },
   "outputs": [],
   "source": [
    "data = open('data/day10.txt', 'r').read()"
   ]
  },
  {
   "cell_type": "code",
   "execution_count": 5,
   "id": "ecf6446b-3bca-4565-87b4-d0b0f2148fbe",
   "metadata": {
    "tags": []
   },
   "outputs": [],
   "source": [
    "def find_start_coords(grid):\n",
    "    \"\"\"\n",
    "    Find the coordinates matching 'S' in the grid\n",
    "    \"\"\"\n",
    "    for row in range(len(grid)):\n",
    "        for col in range(len(grid[row])):\n",
    "            if grid[row][col] == 'S':\n",
    "                return (row, col)"
   ]
  },
  {
   "cell_type": "code",
   "execution_count": 6,
   "id": "df09776e-1780-44bb-87aa-33b7107d9c0d",
   "metadata": {
    "tags": []
   },
   "outputs": [],
   "source": [
    "def find_valid_neighbors(grid, curr_coords):\n",
    "    \"\"\"\n",
    "    Find all valid neighbor(s) (not '.') of the current coordinates\n",
    "    \"\"\"\n",
    "    pipe_connections = {'|': {'N', 'S'}, '-': {'E', 'W'}, 'L': {'N', 'E'}, 'J': {'N', 'W'}, '7': {'S', 'W'}, 'F': {'S', 'E'}, 'S': {'N', 'E', 'S', 'W'}}\n",
    "    movements = {'N': (-1, 0), 'S': (1, 0), 'E': (0, 1), 'W': (0, -1)}\n",
    "    valid_neighbor_coords = []\n",
    "    \n",
    "    (curr_row, curr_col) = curr_coords\n",
    "    curr_pipe = grid[curr_row][curr_col]\n",
    "    neighbor_directions = pipe_connections[curr_pipe] \n",
    "    neighbor_movements = [movements[direction] for direction in neighbor_directions]\n",
    "    \n",
    "    for (row_movement, col_movement) in neighbor_movements:\n",
    "        (neighbor_col, neighbor_row) = neighbor_coords = (curr_row + row_movement, curr_col + col_movement)\n",
    "        if grid[neighbor_col][neighbor_row] != '.':\n",
    "            valid_neighbor_coords.append(neighbor_coords)\n",
    "    \n",
    "    return valid_neighbor_coords"
   ]
  },
  {
   "cell_type": "code",
   "execution_count": 7,
   "id": "4889e452-3294-481d-8125-4ca1cf61d7ff",
   "metadata": {
    "tags": []
   },
   "outputs": [],
   "source": [
    "def find_start_neighbors(grid, start_coords):\n",
    "    \"\"\"\n",
    "    Find the actual valid neighbor(s) of the starting point\n",
    "    \"\"\"\n",
    "    # Find all valid potential neighbors of the starting coordinates\n",
    "    start_neighbor_coords = find_valid_neighbors(grid, start_coords)\n",
    "    # Find the actual connected neighbors\n",
    "    actual_neighbors = {}\n",
    "    for neighbor_coords in start_neighbor_coords:\n",
    "        neighbor_coords_neighbors = find_valid_neighbors(grid, neighbor_coords)\n",
    "        # Store the non-starting neighbors of actual connected neighbors\n",
    "        if start_coords in neighbor_coords_neighbors:\n",
    "            neighbor_coords_neighbors = list(set(neighbor_coords_neighbors) - {start_coords})\n",
    "            actual_neighbors[neighbor_coords] = neighbor_coords_neighbors\n",
    "    \n",
    "    return actual_neighbors"
   ]
  },
  {
   "cell_type": "code",
   "execution_count": 8,
   "id": "63fb913a-5330-4b86-9065-990687b4e173",
   "metadata": {
    "tags": []
   },
   "outputs": [],
   "source": [
    "def identify_start_pipe(grid, start_coords, start_neighbors):\n",
    "    \"\"\"\n",
    "    Identify what the start pipe is and replace 'S' with it in the grid\n",
    "    \"\"\"\n",
    "    pipe_connections = {'|': {'N', 'S'}, '-': {'E', 'W'}, 'L': {'N', 'E'}, 'J': {'N', 'W'}, '7': {'S', 'W'}, 'F': {'S', 'E'}, 'S': {'N', 'E', 'S', 'W'}}\n",
    "    directions = {(-1, 0): 'N', (1, 0): 'S', (0, 1): 'E', (0, -1): 'W'}\n",
    "    \n",
    "    # Find the direction to which we travel to arrive at the neighbors\n",
    "    (start_row, start_col) = start_coords\n",
    "    movements_to_neighbor = [(neighbor_row - start_row, neighbor_col - start_col) for (neighbor_row, neighbor_col) in start_neighbors]\n",
    "    neighbor_directions = [directions[movement] for movement in movements_to_neighbor]\n",
    "    \n",
    "    # Look up the starting pipe\n",
    "    for pipe in pipe_connections:\n",
    "        if pipe_connections[pipe] == set(neighbor_directions):\n",
    "            break\n",
    "    \n",
    "    # Replace 'S' with the starting pipe\n",
    "    grid[start_row][start_col] = pipe\n",
    "    \n",
    "    return grid"
   ]
  },
  {
   "cell_type": "code",
   "execution_count": 9,
   "id": "8d461f08-76ab-4d98-80c5-cede4b32a9b5",
   "metadata": {
    "tags": []
   },
   "outputs": [],
   "source": [
    "def find_loop(grid):\n",
    "    \"\"\"\n",
    "    Find the loop\n",
    "    \"\"\"\n",
    "    loop = []\n",
    "    # Get the starting coordinates\n",
    "    start_coords = find_start_coords(grid)\n",
    "    loop.append(start_coords)\n",
    "    # Find the neighbors connected to the starting coordinates\n",
    "    actual_neighbors = find_start_neighbors(grid, start_coords)\n",
    "    start_neighbors = list(find_start_neighbors(grid, start_coords).keys())\n",
    "    loop += start_neighbors\n",
    "    # Identify the starting pipe\n",
    "    grid = identify_start_pipe(grid, start_coords, start_neighbors)\n",
    "    # Find the rest of the loop\n",
    "    coords_to_check = [coord for neighbor in list(actual_neighbors.values()) for coord in neighbor]\n",
    "    while len(coords_to_check) != 0:\n",
    "        curr_coords = coords_to_check.pop()\n",
    "        loop.append(curr_coords)\n",
    "        curr_neighbor_coords = find_valid_neighbors(grid, curr_coords)\n",
    "        # If both of the coordinates are in the loop already, we've found the end of the loop\n",
    "        if all([curr_neighbor_coord in loop for curr_neighbor_coord in curr_neighbor_coords]):\n",
    "            break\n",
    "        # Otherwise, continue with searching for the rest of the loop\n",
    "        else:\n",
    "            unchecked_neighbors = list(set(curr_neighbor_coords) - set(loop))\n",
    "            coords_to_check += unchecked_neighbors\n",
    "    \n",
    "    return loop"
   ]
  },
  {
   "cell_type": "code",
   "execution_count": 10,
   "id": "b45701ad-7568-481f-97d6-e81b459f6bb1",
   "metadata": {
    "tags": []
   },
   "outputs": [
    {
     "data": {
      "text/plain": [
       "7066"
      ]
     },
     "execution_count": 10,
     "metadata": {},
     "output_type": "execute_result"
    }
   ],
   "source": [
    "def part1(data):\n",
    "    grid = [list(line) for line in data.split('\\n')]\n",
    "    loop = find_loop(grid)\n",
    "    steps = math.ceil((len(loop) - 1) / 2)\n",
    "    \n",
    "    return steps\n",
    "part1(data)"
   ]
  },
  {
   "cell_type": "code",
   "execution_count": 11,
   "id": "9cea4fa1-574f-4209-b83c-3fc6adf25d4c",
   "metadata": {
    "tags": []
   },
   "outputs": [],
   "source": [
    "def print_grid(grid):\n",
    "    \"\"\"\n",
    "    Print the grid\n",
    "    \"\"\"\n",
    "    for row in range(len(grid)):\n",
    "        print(''.join(grid[row]))"
   ]
  },
  {
   "cell_type": "code",
   "execution_count": 111,
   "id": "f458b071-ecf0-438d-93cf-21dd0035acee",
   "metadata": {
    "tags": []
   },
   "outputs": [],
   "source": [
    "def update_non_loop_tiles(grid, loop):\n",
    "    \"\"\"\n",
    "    Update non-loop tiles to '.'\n",
    "    \"\"\"\n",
    "    for row in range(len(grid)):\n",
    "        for col in range(len(grid[row])):\n",
    "            if (row, col) not in loop:\n",
    "                grid[row][col] = '.'\n",
    "    \n",
    "    return grid"
   ]
  },
  {
   "cell_type": "code",
   "execution_count": 114,
   "id": "9e0d997c-ec5d-493f-a71a-edfcf09fdb5d",
   "metadata": {
    "tags": []
   },
   "outputs": [],
   "source": [
    "def categorize_non_loop_tiles(grid):\n",
    "    \"\"\"\n",
    "    Categorizes non-loop tiles as 'I' (inside) or 'O' (outside) and counts enclosed tiles\n",
    "    \n",
    "    Used a hint from Reddit for the boundary line count method\n",
    "    \"\"\"\n",
    "    num_enclosed = 0\n",
    "    for row in range(len(grid)):\n",
    "        for col in range(len(grid[row])):\n",
    "            if grid[row][col] == '.':\n",
    "                lines_crossed = 0\n",
    "                curr_col = col\n",
    "                # Count the # of times the point crosses over a vertical line going to the left boundary\n",
    "                while curr_col >= 0:\n",
    "                    if grid[row][curr_col] in ['J', '|', 'L']:\n",
    "                        lines_crossed += 1\n",
    "                    curr_col -= 1\n",
    "                # If an even # of lines are crossed, it's outside\n",
    "                if lines_crossed % 2 == 0:\n",
    "                    grid[row][col] = 'O'\n",
    "                # If an odd # of lines are crossed, it's inside\n",
    "                else:\n",
    "                    num_enclosed += 1\n",
    "                    grid[row][col] = 'I'\n",
    "    \n",
    "    return grid, num_enclosed"
   ]
  },
  {
   "cell_type": "code",
   "execution_count": 113,
   "id": "7d10cb1e-e818-4ff6-bb07-20787337dfea",
   "metadata": {
    "tags": []
   },
   "outputs": [
    {
     "data": {
      "text/plain": [
       "401"
      ]
     },
     "execution_count": 113,
     "metadata": {},
     "output_type": "execute_result"
    }
   ],
   "source": [
    "def part2(data):\n",
    "    grid = [list(line) for line in data.split('\\n')]\n",
    "    loop = find_loop(grid)\n",
    "    updated_grid = update_non_loop_tiles(grid, loop)\n",
    "    final_grid, num_enclosed = categorize_non_loop_tiles(updated_grid)\n",
    "    \n",
    "    return final_grid, num_enclosed\n",
    "\n",
    "final_grid, num_enclosed = part2(data)\n",
    "num_enclosed"
   ]
  },
  {
   "cell_type": "code",
   "execution_count": null,
   "id": "dda460f7-bc28-4e14-b1fd-13a11af2c520",
   "metadata": {},
   "outputs": [],
   "source": []
  }
 ],
 "metadata": {
  "kernelspec": {
   "display_name": "Python 3 (ipykernel)",
   "language": "python",
   "name": "python3"
  },
  "language_info": {
   "codemirror_mode": {
    "name": "ipython",
    "version": 3
   },
   "file_extension": ".py",
   "mimetype": "text/x-python",
   "name": "python",
   "nbconvert_exporter": "python",
   "pygments_lexer": "ipython3",
   "version": "3.10.11"
  }
 },
 "nbformat": 4,
 "nbformat_minor": 5
}
