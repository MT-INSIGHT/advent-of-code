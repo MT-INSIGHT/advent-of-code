{
 "cells": [
  {
   "cell_type": "code",
   "execution_count": 250,
   "id": "bfc55f09-9845-4f48-aa85-3caea56b44c2",
   "metadata": {
    "tags": []
   },
   "outputs": [],
   "source": [
    "import numpy as np"
   ]
  },
  {
   "cell_type": "code",
   "execution_count": 251,
   "id": "17dc3833-ee69-4028-bd4b-25b4f3b3a776",
   "metadata": {
    "tags": []
   },
   "outputs": [],
   "source": [
    "data = open('data/day20.txt', 'r').read()"
   ]
  },
  {
   "cell_type": "code",
   "execution_count": 252,
   "id": "5b8c220d-2cae-41b8-8a92-5262c5ea1faf",
   "metadata": {
    "tags": []
   },
   "outputs": [],
   "source": [
    "example = \"\"\"broadcaster -> a, b, c\n",
    "%a -> b\n",
    "%b -> c\n",
    "%c -> inv\n",
    "&inv -> a\"\"\""
   ]
  },
  {
   "cell_type": "code",
   "execution_count": 253,
   "id": "8d35c833-7491-4938-94f9-aa1741b6bb30",
   "metadata": {
    "tags": []
   },
   "outputs": [],
   "source": [
    "example2 = \"\"\"broadcaster -> a\n",
    "%a -> inv, con\n",
    "&inv -> b\n",
    "%b -> con\n",
    "&con -> output\"\"\""
   ]
  },
  {
   "cell_type": "code",
   "execution_count": 254,
   "id": "5454d4a0-27a2-4bbc-9d17-c92777a359bd",
   "metadata": {
    "tags": []
   },
   "outputs": [],
   "source": [
    "def parse_configuration(data):\n",
    "    \"\"\"\n",
    "    Parse the data into the necessary structures\n",
    "    \"\"\"\n",
    "    configuration = {}\n",
    "    on_status_tracker = {}\n",
    "    high_pulse_tracker = {('button', 'broadcaster'): False}\n",
    "    for line in data.split('\\n'):\n",
    "        source_module, dest_modules = line.split(' -> ')\n",
    "        dest_modules = dest_modules.split(', ')\n",
    "        if '%' in source_module:\n",
    "            source_module = source_module.replace('%', '')\n",
    "            module_type = 'flip-flop'\n",
    "            on_status_tracker[source_module] = False\n",
    "        elif '&' in source_module:\n",
    "            source_module = source_module.replace('&', '')\n",
    "            module_type = 'conjunction'\n",
    "        else:\n",
    "            module_type = source_module\n",
    "        configuration[source_module] = (module_type, dest_modules)\n",
    "        \n",
    "        for dest_module in dest_modules:\n",
    "            high_pulse_tracker[(source_module, dest_module)] = False\n",
    "    \n",
    "    return configuration, on_status_tracker, high_pulse_tracker"
   ]
  },
  {
   "cell_type": "code",
   "execution_count": 255,
   "id": "39568ba0-a5b2-48b0-8fbb-0593e032355e",
   "metadata": {
    "tags": []
   },
   "outputs": [],
   "source": [
    "def update_module(on_status_tracker, high_pulse_tracker,\n",
    "                  current_module, module_type, dest_modules,\n",
    "                  is_high_pulse):\n",
    "    \"\"\"\n",
    "    Updates module and sends a bool indicating whether the pulse is a high pulse or not\n",
    "    \"\"\"\n",
    "    # Update module and identify the return pulse type\n",
    "    if module_type == 'flip-flop' and not is_high_pulse:\n",
    "        # If it was off, turn it on and send high pulse, else turn it off and send low pulse\n",
    "        on_status_tracker[current_module] = not on_status_tracker[current_module]\n",
    "        return_is_high_pulse = on_status_tracker[current_module]\n",
    "    elif module_type == 'conjunction':\n",
    "        # If connected modules all last sent high pulses, send low pulse, else send high pulse\n",
    "        return_is_high_pulse = not all([is_high_pulse \n",
    "                                        for ((source_module, dest_module), is_high_pulse) \n",
    "                                        in high_pulse_tracker.items()\n",
    "                                        if dest_module == current_module])\n",
    "    else:\n",
    "        # Return the input pulse type\n",
    "        return_is_high_pulse = is_high_pulse\n",
    "    \n",
    "    # Update the high pulse tracker\n",
    "    for dest_module in dest_modules:\n",
    "        high_pulse_tracker[(current_module, dest_module)] = return_is_high_pulse    \n",
    "    \n",
    "    return on_status_tracker, high_pulse_tracker\n",
    "        "
   ]
  },
  {
   "cell_type": "code",
   "execution_count": 256,
   "id": "f162f4b8-0bea-4242-9dee-079869619be0",
   "metadata": {
    "tags": []
   },
   "outputs": [],
   "source": [
    "def handle_button_push(configuration, on_status_tracker, high_pulse_tracker, pulse_counts):\n",
    "    \"\"\"\n",
    "    Push the button and handle the subsequent module updates, returning the count of high/low pulses\n",
    "    \"\"\"    \n",
    "    # Push the button\n",
    "    module_queue = [('button', 'broadcaster')]\n",
    "    \n",
    "    while module_queue:\n",
    "        (source_module, current_module) = module_queue.pop(0)\n",
    "        is_high_pulse = high_pulse_tracker[(source_module, current_module)]\n",
    "        pulse_counts['high' if is_high_pulse else 'low'] += 1\n",
    "        if current_module not in configuration:\n",
    "            continue\n",
    "        else:\n",
    "            module_type, dest_modules = configuration[current_module]\n",
    "\n",
    "        if not (module_type == 'flip-flop' and is_high_pulse):\n",
    "            on_status_tracker, high_pulse_tracker = update_module(on_status_tracker,\n",
    "                                                                  high_pulse_tracker,\n",
    "                                                                  current_module,\n",
    "                                                                  module_type,\n",
    "                                                                  dest_modules,\n",
    "                                                                  is_high_pulse)\n",
    "            for dest_module in dest_modules:\n",
    "                module_queue += [(current_module, dest_module)]\n",
    "    \n",
    "    return on_status_tracker, high_pulse_tracker, pulse_counts"
   ]
  },
  {
   "cell_type": "code",
   "execution_count": 264,
   "id": "51744524-866c-47e5-9a67-05cdef51ba6c",
   "metadata": {
    "tags": []
   },
   "outputs": [],
   "source": [
    "def find_cycle(configuration, on_status_tracker, high_pulse_tracker, pulse_counts, num_button_pushes):\n",
    "    \"\"\"\n",
    "    Find the # of button pushes and pulses needed for the flip-flop modules to reset\n",
    "    \"\"\"\n",
    "    num_cycle_button_pushes = 0\n",
    "    while num_cycle_button_pushes == 0 or any(list(on_status_tracker.values())):\n",
    "        num_cycle_button_pushes += 1\n",
    "        on_status_tracker, high_pulse_tracker, pulse_counts = handle_button_push(configuration,\n",
    "                                                                             on_status_tracker,\n",
    "                                                                             high_pulse_tracker,\n",
    "                                                                             pulse_counts)\n",
    "        if num_cycle_button_pushes == num_button_pushes:\n",
    "            break\n",
    "    \n",
    "    return num_cycle_button_pushes, pulse_counts    "
   ]
  },
  {
   "cell_type": "code",
   "execution_count": 302,
   "id": "82a4ffa0-dcb0-4496-aaa0-707015c9d8fe",
   "metadata": {
    "tags": []
   },
   "outputs": [
    {
     "data": {
      "text/plain": [
       "739960225"
      ]
     },
     "execution_count": 302,
     "metadata": {},
     "output_type": "execute_result"
    }
   ],
   "source": [
    "def part1(data, num_button_pushes):\n",
    "    configuration, on_status_tracker, high_pulse_tracker = parse_configuration(data)   \n",
    "    num_cycle_button_pushes, cycle_pulse_counts = find_cycle(configuration,\n",
    "                                                             on_status_tracker,\n",
    "                                                             high_pulse_tracker,\n",
    "                                                             {'high': 0, 'low': 0},\n",
    "                                                             num_button_pushes)\n",
    "    \n",
    "    num_cycles = num_button_pushes / num_cycle_button_pushes\n",
    "    total_pulse_counts = np.array(list(cycle_pulse_counts.values())) * num_cycles\n",
    "    \n",
    "    return np.int64(np.prod(total_pulse_counts))\n",
    "part1(data, 1000)"
   ]
  },
  {
   "cell_type": "code",
   "execution_count": 373,
   "id": "da041cec-f8d7-4063-8821-1ab009734266",
   "metadata": {
    "tags": []
   },
   "outputs": [],
   "source": [
    "def find_needed_high_pulses(configuration, on_status_tracker, high_pulse_tracker,\n",
    "                            need_high_pulse, button_push_index):\n",
    "    \"\"\"\n",
    "    Push the button and handle the subsequent updates, flagging when we find the needed high pulses\n",
    "    \"\"\"    \n",
    "    # Push the button\n",
    "    module_queue = [('button', 'broadcaster')]\n",
    "    \n",
    "    while module_queue:\n",
    "        (source_module, current_module) = module_queue.pop(0)\n",
    "        is_high_pulse = high_pulse_tracker[(source_module, current_module)]\n",
    "        # Check if we've found a high pulse for any of the needed modules\n",
    "        if (source_module, current_module) in need_high_pulse:\n",
    "            if is_high_pulse and need_high_pulse[(source_module, current_module)] is None:\n",
    "                need_high_pulse[(source_module, current_module)] = button_push_index\n",
    "        \n",
    "        if current_module not in configuration:\n",
    "            continue\n",
    "        else:\n",
    "            module_type, dest_modules = configuration[current_module]\n",
    "\n",
    "        if not (module_type == 'flip-flop' and is_high_pulse):\n",
    "            on_status_tracker, high_pulse_tracker = update_module(on_status_tracker,\n",
    "                                                                  high_pulse_tracker,\n",
    "                                                                  current_module,\n",
    "                                                                  module_type,\n",
    "                                                                  dest_modules,\n",
    "                                                                  is_high_pulse)\n",
    "            for dest_module in dest_modules:\n",
    "                module_queue += [(current_module, dest_module)]\n",
    "    \n",
    "    return on_status_tracker, high_pulse_tracker, need_high_pulse"
   ]
  },
  {
   "cell_type": "code",
   "execution_count": 375,
   "id": "3e7aa484-9020-4bbe-97c8-02019ce632bf",
   "metadata": {
    "tags": []
   },
   "outputs": [
    {
     "data": {
      "text/plain": [
       "231897990075517"
      ]
     },
     "execution_count": 375,
     "metadata": {},
     "output_type": "execute_result"
    }
   ],
   "source": [
    "def part2(data):\n",
    "    \"\"\"\n",
    "    This is fairly hard-coded but essentially rx is only connected to one conjunction module gf\n",
    "    That conjunction module is connected to 4 other conjunction modules\n",
    "    \n",
    "    So if we want to have gf produce a low pulse, \n",
    "    all 4 of the connected conjunctions need to send a high pulse\n",
    "    \n",
    "    Thus, we just need to find the lcm of when the connected conjunctions first send a high pulse\n",
    "    \n",
    "    The key is that we need to check for this within a single button push, not following a button push\n",
    "    \"\"\"\n",
    "    configuration, on_status_tracker, high_pulse_tracker = parse_configuration(data)   \n",
    "    need_high_pulse = {(source, dest): None for (source, dest) in high_pulse_tracker if dest == 'gf'}\n",
    "    \n",
    "    button_push_index = 0\n",
    "    while any([val is None for val in need_high_pulse.values()]):\n",
    "        button_push_index += 1\n",
    "        on_status_tracker, high_pulse_tracker, need_high_pulse = find_needed_high_pulses(configuration,\n",
    "                                                                                         on_status_tracker,\n",
    "                                                                                         high_pulse_tracker,\n",
    "                                                                                         need_high_pulse,\n",
    "                                                                                         button_push_index)\n",
    "    return math.lcm(*need_high_pulse.values())\n",
    "part2(data)"
   ]
  }
 ],
 "metadata": {
  "kernelspec": {
   "display_name": "Python 3 (ipykernel)",
   "language": "python",
   "name": "python3"
  },
  "language_info": {
   "codemirror_mode": {
    "name": "ipython",
    "version": 3
   },
   "file_extension": ".py",
   "mimetype": "text/x-python",
   "name": "python",
   "nbconvert_exporter": "python",
   "pygments_lexer": "ipython3",
   "version": "3.10.11"
  }
 },
 "nbformat": 4,
 "nbformat_minor": 5
}
