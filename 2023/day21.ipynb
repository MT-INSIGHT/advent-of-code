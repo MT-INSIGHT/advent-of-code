{
 "cells": [
  {
   "cell_type": "code",
   "execution_count": 70,
   "id": "bfc55f09-9845-4f48-aa85-3caea56b44c2",
   "metadata": {
    "tags": []
   },
   "outputs": [],
   "source": [
    "from functools import cache"
   ]
  },
  {
   "cell_type": "code",
   "execution_count": 2,
   "id": "17dc3833-ee69-4028-bd4b-25b4f3b3a776",
   "metadata": {
    "tags": []
   },
   "outputs": [],
   "source": [
    "data = open('data/day21.txt', 'r').read()"
   ]
  },
  {
   "cell_type": "code",
   "execution_count": 3,
   "id": "5b8c220d-2cae-41b8-8a92-5262c5ea1faf",
   "metadata": {
    "tags": []
   },
   "outputs": [],
   "source": [
    "example = \"\"\"...........\n",
    ".....###.#.\n",
    ".###.##..#.\n",
    "..#.#...#..\n",
    "....#.#....\n",
    ".##..S####.\n",
    ".##..#...#.\n",
    ".......##..\n",
    ".##.#.####.\n",
    ".##..##.##.\n",
    "...........\"\"\""
   ]
  },
  {
   "cell_type": "code",
   "execution_count": 4,
   "id": "d04e3430-8bfd-446c-b0ad-fafbc0e419bd",
   "metadata": {
    "tags": []
   },
   "outputs": [],
   "source": [
    "def find_start(grid):\n",
    "    for row in range(len(grid)):\n",
    "        for col in range(len(grid[row])):\n",
    "            if grid[row][col] == 'S':\n",
    "                grid[row][col] = '.'\n",
    "                return grid, (row, col)"
   ]
  },
  {
   "cell_type": "code",
   "execution_count": 36,
   "id": "e70857a4-c9b0-4d0e-a628-281cf96666f0",
   "metadata": {
    "tags": []
   },
   "outputs": [],
   "source": [
    "def find_valid_neighbors(grid):\n",
    "    movements = [(-1, 0), (0, 1), (1, 0), (0, -1)]\n",
    "    \n",
    "    all_valid_neighbors = {}\n",
    "    for row in range(len(grid)):\n",
    "        for col in range(len(grid[row])):\n",
    "            valid_neighbors = []\n",
    "            for (row_movement, col_movement) in movements:\n",
    "                (neighbor_row, neighbor_col) = neighbor = (row + row_movement, col + col_movement)\n",
    "                if 0 <= neighbor_row < len(grid) and 0 <= neighbor_col < len(grid[0]):\n",
    "                    if grid[neighbor_row][neighbor_col] == '.':\n",
    "                        valid_neighbors.append(neighbor)\n",
    "            all_valid_neighbors[(row, col)] = valid_neighbors\n",
    "    \n",
    "    return all_valid_neighbors"
   ]
  },
  {
   "cell_type": "code",
   "execution_count": 40,
   "id": "3e7aa484-9020-4bbe-97c8-02019ce632bf",
   "metadata": {
    "tags": []
   },
   "outputs": [
    {
     "data": {
      "text/plain": [
       "3649"
      ]
     },
     "execution_count": 40,
     "metadata": {},
     "output_type": "execute_result"
    }
   ],
   "source": [
    "def part1(data, num_steps):\n",
    "    grid = [list(line) for line in data.split('\\n')]\n",
    "    grid, start = find_start(grid)\n",
    "    current_plots = [start]\n",
    "    valid_neighbors = find_valid_neighbors(grid)        \n",
    "    \n",
    "    for i in range(num_steps):\n",
    "        next_plots = []\n",
    "        for plot in current_plots:\n",
    "            next_plots += valid_neighbors[plot]\n",
    "        current_plots = set(next_plots)\n",
    "    \n",
    "    return len(set(current_plots))        \n",
    "part1(data, 64)"
   ]
  },
  {
   "cell_type": "code",
   "execution_count": 87,
   "id": "df2d6b0a-ac5c-4083-9882-cdbb7a4aaf81",
   "metadata": {
    "tags": []
   },
   "outputs": [],
   "source": [
    "def find_valid_neighbors(grid, row_bound, col_bound):\n",
    "    movements = [(-1, 0), (0, 1), (1, 0), (0, -1)]\n",
    "    \n",
    "    all_valid_neighbors = {}\n",
    "    for row in range(len(grid)):\n",
    "        for col in range(len(grid[row])):\n",
    "            valid_neighbors = []\n",
    "            for (row_movement, col_movement) in movements:\n",
    "                (neighbor_row, neighbor_col) = neighbor = (row + row_movement, col + col_movement)\n",
    "                adjusted_neighbor_row = neighbor_row % row_bound\n",
    "                adjusted_neighbor_col = neighbor_col % col_bound\n",
    "                if grid[adjusted_neighbor_row][adjusted_neighbor_col] == '.':\n",
    "                    valid_neighbors.append(neighbor)\n",
    "            all_valid_neighbors[(row, col)] = valid_neighbors\n",
    "    \n",
    "    return all_valid_neighbors"
   ]
  },
  {
   "cell_type": "code",
   "execution_count": 94,
   "id": "06157042-55a4-4d09-958e-b61418181abc",
   "metadata": {
    "tags": []
   },
   "outputs": [],
   "source": [
    "def take_step(current_plots, valid_neighbors, row_bound, col_bound):\n",
    "    next_plots = []\n",
    "    for plot in current_plots:\n",
    "        if plot not in valid_neighbors:\n",
    "            plot_row, plot_col = plot\n",
    "            adjusted_plot_row = plot_row % row_bound\n",
    "            adjusted_plot_col = plot_col % col_bound\n",
    "            row_adjustment = plot_row - adjusted_plot_row\n",
    "            col_adjustment = plot_col - adjusted_plot_col\n",
    "            neighbors = valid_neighbors[(adjusted_plot_row, adjusted_plot_col)]\n",
    "            adjusted_neighbors = [(row + row_adjustment, col + col_adjustment)\n",
    "                                  for (row, col) in neighbors]\n",
    "            valid_neighbors[plot] = adjusted_neighbors\n",
    "        next_plots += valid_neighbors[plot]\n",
    "        \n",
    "    return valid_neighbors, set(next_plots)"
   ]
  },
  {
   "cell_type": "code",
   "execution_count": 100,
   "id": "57274ae9-4567-4e07-9a98-349ff4adef4e",
   "metadata": {},
   "outputs": [
    {
     "data": {
      "text/plain": [
       "6536"
      ]
     },
     "execution_count": 100,
     "metadata": {},
     "output_type": "execute_result"
    }
   ],
   "source": [
    "def part2(data, num_steps):\n",
    "    \"\"\"\n",
    "    This is still far too slow - \n",
    "    Reddit seems to suggest a polynomial calculation instead of memoizing but the math is beyond me\n",
    "    \"\"\"\n",
    "    grid = [list(line) for line in data.split('\\n')]\n",
    "    row_bound, col_bound = len(grid), len(grid[0])\n",
    "    grid, start = find_start(grid)\n",
    "    current_plots = [start]\n",
    "    valid_neighbors = find_valid_neighbors(grid, row_bound, col_bound)        \n",
    "    \n",
    "    for i in range(num_steps):\n",
    "        valid_neighbors, next_plots = take_step(current_plots, valid_neighbors, row_bound, col_bound)\n",
    "        current_plots = next_plots\n",
    "    \n",
    "    return len(set(current_plots))        \n",
    "part2(example, 100)"
   ]
  },
  {
   "cell_type": "code",
   "execution_count": null,
   "id": "8f78a35f-4628-4a7b-8102-ddfa738e5246",
   "metadata": {},
   "outputs": [],
   "source": []
  }
 ],
 "metadata": {
  "kernelspec": {
   "display_name": "Python 3 (ipykernel)",
   "language": "python",
   "name": "python3"
  },
  "language_info": {
   "codemirror_mode": {
    "name": "ipython",
    "version": 3
   },
   "file_extension": ".py",
   "mimetype": "text/x-python",
   "name": "python",
   "nbconvert_exporter": "python",
   "pygments_lexer": "ipython3",
   "version": "3.10.11"
  }
 },
 "nbformat": 4,
 "nbformat_minor": 5
}
