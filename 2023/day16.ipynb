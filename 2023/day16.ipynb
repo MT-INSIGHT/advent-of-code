{
 "cells": [
  {
   "cell_type": "code",
   "execution_count": 61,
   "id": "17dc3833-ee69-4028-bd4b-25b4f3b3a776",
   "metadata": {
    "tags": []
   },
   "outputs": [],
   "source": [
    "data = open('data/day16.txt', 'r').read()  # Replace all '\\' with 'S' to avoid issues with match-case"
   ]
  },
  {
   "cell_type": "code",
   "execution_count": 48,
   "id": "5b8c220d-2cae-41b8-8a92-5262c5ea1faf",
   "metadata": {
    "tags": []
   },
   "outputs": [],
   "source": [
    "example = \"\"\".|...S....\n",
    "|.-.S.....\n",
    ".....|-...\n",
    "........|.\n",
    "..........\n",
    ".........S\n",
    "..../.SS..\n",
    ".-.-/..|..\n",
    ".|....-|.S\n",
    "..//.|....\"\"\""
   ]
  },
  {
   "cell_type": "code",
   "execution_count": 39,
   "id": "03f70bc1-ae87-459a-8298-3202505916f3",
   "metadata": {
    "tags": []
   },
   "outputs": [],
   "source": [
    "def move_beam(grid, coord, direction, visited):\n",
    "    movements = {'Up': (-1, 0), 'Down': (1, 0), 'Left': (0, -1), 'Right': (0, 1)}\n",
    "    \n",
    "    curr_row, curr_col = coord   \n",
    "    row_movement, col_movement = movements[direction]\n",
    "    next_coord = next_row, next_col = (curr_row + row_movement, curr_col + col_movement)\n",
    "    if next_row < 0 or next_row == len(grid) or next_col < 0 or next_col == len(grid[0]):\n",
    "        return [coord]\n",
    "    elif (direction, next_coord) in visited:  # found loop\n",
    "        return []\n",
    "    else:\n",
    "        match grid[next_row][next_col]:\n",
    "            case '.':\n",
    "                return [coord] + move_beam(grid, next_coord, direction, visited)\n",
    "            case '/':\n",
    "                visited.append((direction, next_coord))\n",
    "                if direction == 'Left':\n",
    "                    return [coord] + move_beam(grid, next_coord, 'Down', visited)\n",
    "                elif direction == 'Right':\n",
    "                    return [coord] + move_beam(grid, next_coord, 'Up', visited)\n",
    "                elif direction == 'Up':\n",
    "                    return [coord] + move_beam(grid, next_coord, 'Right', visited)\n",
    "                else:\n",
    "                    return [coord] + move_beam(grid, next_coord, 'Left', visited)\n",
    "            case 'S':\n",
    "                visited.append((direction, next_coord))\n",
    "                if direction == 'Right':\n",
    "                    return [coord] + move_beam(grid, next_coord, 'Down', visited)\n",
    "                elif direction == 'Left':\n",
    "                    return [coord] + move_beam(grid, next_coord, 'Up', visited)\n",
    "                elif direction == 'Down':\n",
    "                    return [coord] + move_beam(grid, next_coord, 'Right', visited)\n",
    "                else:\n",
    "                    return [coord] + move_beam(grid, next_coord, 'Left', visited)\n",
    "            case '|':\n",
    "                if direction in ['Left', 'Right']:\n",
    "                    visited.append((direction, next_coord))\n",
    "                    return [coord] + move_beam(grid, next_coord, 'Up', visited) + move_beam(grid, next_coord, 'Down', visited)\n",
    "                else:\n",
    "                    return [coord] + move_beam(grid, next_coord, direction, visited)\n",
    "            case '-':\n",
    "                if direction in ['Up', 'Down']:\n",
    "                    visited.append((direction, next_coord))\n",
    "                    return [coord] + move_beam(grid, next_coord, 'Left', visited) + move_beam(grid, next_coord, 'Right', visited)\n",
    "                else:\n",
    "                    return [coord] + move_beam(grid, next_coord, direction, visited)"
   ]
  },
  {
   "cell_type": "code",
   "execution_count": 57,
   "id": "287ec318-2fa7-430b-a089-c97f294e730f",
   "metadata": {
    "tags": []
   },
   "outputs": [
    {
     "data": {
      "text/plain": [
       "6883"
      ]
     },
     "execution_count": 57,
     "metadata": {},
     "output_type": "execute_result"
    }
   ],
   "source": [
    "def part1(data):\n",
    "    grid = [list(row) for row in data.split('\\n')]\n",
    "    beam_path = move_beam(grid, (0, -1), 'Right', [])  # Start from (0, -1) so we move right into (0, 0)\n",
    "    \n",
    "    return len(set(beam_path)) - 1  # Account for removing (0, -1)\n",
    "part1(data)"
   ]
  },
  {
   "cell_type": "code",
   "execution_count": 60,
   "id": "4583d97d-0ab3-41b4-b754-c7872235a4a0",
   "metadata": {
    "tags": []
   },
   "outputs": [
    {
     "data": {
      "text/plain": [
       "7228"
      ]
     },
     "execution_count": 60,
     "metadata": {},
     "output_type": "execute_result"
    }
   ],
   "source": [
    "def part2(data):\n",
    "    grid = [list(row) for row in data.split('\\n')]\n",
    "    energized_counts = []\n",
    "    row_bound, col_bound = len(grid), len(grid[0])\n",
    "\n",
    "    # Top edge\n",
    "    for col in range(col_bound):\n",
    "        beam_path = move_beam(grid, (-1, col), 'Down', [])\n",
    "        energized_counts.append(len(set(beam_path)) - 1)\n",
    "    # Bottom edge\n",
    "    for col in range(col_bound):\n",
    "        beam_path = move_beam(grid, (row_bound, col), 'Up', [])\n",
    "        energized_counts.append(len(set(beam_path)) - 1)\n",
    "    # Left edge\n",
    "    for row in range(row_bound):\n",
    "        beam_path = move_beam(grid, (row, -1), 'Right', [])\n",
    "        energized_counts.append(len(set(beam_path)) - 1)\n",
    "    # Right edge\n",
    "    for row in range(row_bound):\n",
    "        beam_path = move_beam(grid, (row, col_bound), 'Left', [])\n",
    "        energized_counts.append(len(set(beam_path)) - 1)\n",
    "    \n",
    "    return max(energized_counts)\n",
    "part2(data)"
   ]
  },
  {
   "cell_type": "code",
   "execution_count": null,
   "id": "b3f5950a-5728-4f53-a6c5-ace2f6d91c7c",
   "metadata": {},
   "outputs": [],
   "source": []
  }
 ],
 "metadata": {
  "kernelspec": {
   "display_name": "Python 3 (ipykernel)",
   "language": "python",
   "name": "python3"
  },
  "language_info": {
   "codemirror_mode": {
    "name": "ipython",
    "version": 3
   },
   "file_extension": ".py",
   "mimetype": "text/x-python",
   "name": "python",
   "nbconvert_exporter": "python",
   "pygments_lexer": "ipython3",
   "version": "3.10.11"
  }
 },
 "nbformat": 4,
 "nbformat_minor": 5
}
