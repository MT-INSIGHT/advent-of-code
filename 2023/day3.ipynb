{
 "cells": [
  {
   "cell_type": "code",
   "execution_count": 1,
   "id": "77edb324-7aaa-4a2e-bd78-7cc44514be86",
   "metadata": {
    "tags": []
   },
   "outputs": [],
   "source": [
    "import numpy as np\n",
    "import re"
   ]
  },
  {
   "cell_type": "code",
   "execution_count": 2,
   "id": "17dc3833-ee69-4028-bd4b-25b4f3b3a776",
   "metadata": {
    "tags": []
   },
   "outputs": [],
   "source": [
    "data = open('data/day3.txt', 'r').read()"
   ]
  },
  {
   "cell_type": "code",
   "execution_count": 3,
   "id": "4caca588-fed9-4183-8e30-1322f7fc74e6",
   "metadata": {
    "tags": []
   },
   "outputs": [],
   "source": [
    "example = \"\"\"467..114..\n",
    "...*......\n",
    "..35..633.\n",
    "......#...\n",
    "617*......\n",
    ".....+.58.\n",
    "..592.....\n",
    "......755.\n",
    "...$.*....\n",
    ".664.598..\"\"\""
   ]
  },
  {
   "cell_type": "code",
   "execution_count": 4,
   "id": "1b181d5e-6fc7-450d-9178-624fce8174c3",
   "metadata": {
    "tags": []
   },
   "outputs": [],
   "source": [
    "def check_adjacent(row_index, start_index, end_index, max_col, max_row, lines):\n",
    "    # Check left\n",
    "    if start_index > 0 and lines[row_index][start_index - 1] != '.':\n",
    "        return True\n",
    "    # Check right\n",
    "    if end_index < max_col and lines[row_index][end_index + 1] != '.':\n",
    "        return True\n",
    "    # Check top\n",
    "    if row_index > 0:\n",
    "        if any(lines[row_index - 1][col] != '.' for col in range(start_index, end_index + 1)):\n",
    "            return True\n",
    "    # Check bottom\n",
    "    if row_index < max_row:\n",
    "        if any(lines[row_index + 1][col] != '.' for col in range(start_index, end_index + 1)):\n",
    "            return True\n",
    "    # Check top left diagonal\n",
    "    if start_index > 0 and row_index > 0 and lines[row_index - 1][start_index - 1] != '.':\n",
    "        return True\n",
    "    # Check bottom left diagonal\n",
    "    if start_index > 0 and row_index < max_row and lines[row_index + 1][start_index - 1] != '.':\n",
    "        return True\n",
    "    # Check top right diagonal\n",
    "    if end_index < max_col and row_index > 0 and lines[row_index - 1][end_index + 1] != '.':\n",
    "        return True\n",
    "    # Check bottom right diagonal\n",
    "    if end_index < max_col and row_index < max_row and lines[row_index + 1][end_index + 1] != '.':\n",
    "        return True\n",
    "    return False     "
   ]
  },
  {
   "cell_type": "code",
   "execution_count": 5,
   "id": "f029117b-5f70-47f6-bb02-15d6194e35ef",
   "metadata": {
    "tags": []
   },
   "outputs": [
    {
     "data": {
      "text/plain": [
       "531561"
      ]
     },
     "execution_count": 5,
     "metadata": {},
     "output_type": "execute_result"
    }
   ],
   "source": [
    "def part1(data):\n",
    "    lines = data.split('\\n')\n",
    "    max_col = len(lines[0]) - 1\n",
    "    max_row = len(lines) - 1\n",
    "    valid_numbers = []\n",
    "    for row_index, line in enumerate(lines):\n",
    "        # Get ranges of all numbers\n",
    "        num_ranges = [(num.start(0), num.end(0) - 1) for num in re.finditer('\\d+', line)]\n",
    "        # Find numbers adjacent to symbols\n",
    "        for (start_index, end_index) in num_ranges:\n",
    "            number = int(line[start_index:end_index + 1])\n",
    "            if check_adjacent(row_index=row_index, start_index=start_index, end_index=end_index,\n",
    "                              max_col=max_col, max_row=max_row, lines=lines):\n",
    "                valid_numbers.append(number)\n",
    "    return valid_numbers        \n",
    "sum(part1(data))"
   ]
  },
  {
   "cell_type": "code",
   "execution_count": 6,
   "id": "cd3b5480-3de7-4124-81c2-b9456f5da0f0",
   "metadata": {},
   "outputs": [],
   "source": [
    "def find_adjacent_gears(row_index, start_index, end_index, max_col, max_row, lines):\n",
    "    adjacent_gears = []\n",
    "    # Check left\n",
    "    if start_index > 0 and lines[row_index][start_index - 1] == '*':\n",
    "        adjacent_gears.append((row_index, start_index - 1))\n",
    "    # Check right\n",
    "    if end_index < max_col and lines[row_index][end_index + 1] == '*':\n",
    "        adjacent_gears.append((row_index, end_index + 1))\n",
    "    # Check top\n",
    "    if row_index > 0:\n",
    "        for col in range(start_index, end_index + 1):\n",
    "            if lines[row_index - 1][col] == '*':\n",
    "                adjacent_gears.append((row_index - 1, col))\n",
    "    # Check bottom\n",
    "    if row_index < max_row:\n",
    "        for col in range(start_index, end_index + 1):\n",
    "            if lines[row_index + 1][col] == '*':\n",
    "                adjacent_gears.append((row_index + 1, col))\n",
    "    # Check top left diagonal\n",
    "    if start_index > 0 and row_index > 0 and lines[row_index - 1][start_index - 1] == '*':\n",
    "        adjacent_gears.append((row_index - 1, start_index - 1))\n",
    "    # Check bottom left diagonal\n",
    "    if start_index > 0 and row_index < max_row and lines[row_index + 1][start_index - 1] == '*':\n",
    "        adjacent_gears.append((row_index + 1, start_index - 1))\n",
    "    # Check top right diagonal\n",
    "    if end_index < max_col and row_index > 0 and lines[row_index - 1][end_index + 1] == '*':\n",
    "        adjacent_gears.append((row_index - 1, end_index + 1))\n",
    "    # Check bottom right diagonal\n",
    "    if end_index < max_col and row_index < max_row and lines[row_index + 1][end_index + 1] == '*':\n",
    "        adjacent_gears.append((row_index + 1, end_index + 1))\n",
    "    return adjacent_gears    "
   ]
  },
  {
   "cell_type": "code",
   "execution_count": 7,
   "id": "080b7b92-3502-4fe1-87b6-1a92d24475a7",
   "metadata": {
    "tags": []
   },
   "outputs": [
    {
     "data": {
      "text/plain": [
       "83279367"
      ]
     },
     "execution_count": 7,
     "metadata": {},
     "output_type": "execute_result"
    }
   ],
   "source": [
    "def part2(data):\n",
    "    lines = data.split('\\n')\n",
    "    max_col = len(lines[0]) - 1\n",
    "    max_row = len(lines) - 1\n",
    "    gears = {}\n",
    "    for row_index, line in enumerate(lines):\n",
    "        # Get ranges of all numbers\n",
    "        num_ranges = [(num.start(0), num.end(0) - 1) for num in re.finditer('\\d+', line)]\n",
    "        # Find adjacent gears for each number\n",
    "        for (start_index, end_index) in num_ranges:\n",
    "            number = int(line[start_index:end_index + 1])\n",
    "            adjacent_gears = find_adjacent_gears(row_index=row_index, start_index=start_index, end_index=end_index,\n",
    "                                                 max_col=max_col, max_row=max_row, lines=lines)\n",
    "            # Tie number to its adjacent gears\n",
    "            for adjacent_gear in adjacent_gears:\n",
    "                if adjacent_gear in gears:\n",
    "                    gears[adjacent_gear].append(number)\n",
    "                else:\n",
    "                    gears[adjacent_gear] = [number]\n",
    "    # Filter to gears with exactly 2 adjacent numbers\n",
    "    gear_ratios = []\n",
    "    for gear in gears:\n",
    "        if len(gears[gear]) == 2:\n",
    "            gear_ratios.append(np.prod(gears[gear]))\n",
    "    \n",
    "    return gear_ratios        \n",
    "sum(part2(data))"
   ]
  },
  {
   "cell_type": "code",
   "execution_count": null,
   "id": "6059848b-f193-4fe2-a803-db88f4396637",
   "metadata": {},
   "outputs": [],
   "source": []
  }
 ],
 "metadata": {
  "kernelspec": {
   "display_name": "Python 3 (ipykernel)",
   "language": "python",
   "name": "python3"
  },
  "language_info": {
   "codemirror_mode": {
    "name": "ipython",
    "version": 3
   },
   "file_extension": ".py",
   "mimetype": "text/x-python",
   "name": "python",
   "nbconvert_exporter": "python",
   "pygments_lexer": "ipython3",
   "version": "3.10.11"
  }
 },
 "nbformat": 4,
 "nbformat_minor": 5
}
