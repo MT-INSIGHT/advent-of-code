{
 "cells": [
  {
   "cell_type": "code",
   "execution_count": 3,
   "id": "48416b13-9b64-4279-b556-7090dd1308e5",
   "metadata": {
    "tags": []
   },
   "outputs": [],
   "source": [
    "import re"
   ]
  },
  {
   "cell_type": "code",
   "execution_count": 76,
   "id": "02231849-1e4b-496d-8f3f-e1ddbef2b512",
   "metadata": {
    "tags": []
   },
   "outputs": [],
   "source": [
    "data = open('data/day24.txt', 'r').read()"
   ]
  },
  {
   "cell_type": "code",
   "execution_count": 77,
   "id": "8f6f940d-60b5-448c-8e3c-018f3c46ab85",
   "metadata": {
    "tags": []
   },
   "outputs": [],
   "source": [
    "example = \"\"\"19, 13, 30 @ -2,  1, -2\n",
    "18, 19, 22 @ -1, -1, -2\n",
    "20, 25, 34 @ -2, -2, -4\n",
    "12, 31, 28 @ -1, -2, -1\n",
    "20, 19, 15 @  1, -5, -3\"\"\""
   ]
  },
  {
   "cell_type": "code",
   "execution_count": 80,
   "id": "735c8079-74d4-444f-9377-9c47bf7ff7ea",
   "metadata": {
    "tags": []
   },
   "outputs": [],
   "source": [
    "def parse_data(data):\n",
    "    parsed = []\n",
    "    for line in data.split('\\n'):\n",
    "        px, py, pz, vx, vy, vz = [int(val) for val in re.findall('-\\d+|\\d+', line)]\n",
    "        slope = vy / vx\n",
    "        intercept = -slope * px + py\n",
    "        parsed.append({'point': (px, py), 'velocity': (vx, vy), 'slope': slope, 'intercept': intercept})\n",
    "    \n",
    "    return parsed"
   ]
  },
  {
   "cell_type": "code",
   "execution_count": 81,
   "id": "462d914c-b722-43bc-acfe-25a98e92a1d2",
   "metadata": {
    "tags": []
   },
   "outputs": [],
   "source": [
    "def future_intersection(x, y, l1, l2):\n",
    "    x1, y1 = l1['point']\n",
    "    x2, y2 = l2['point']\n",
    "    px1, py1 = l1['velocity']\n",
    "    px2, py2 = l2['velocity']\n",
    "    future_l1 = (x - x1) / px1 > 0 and (y - y1) / py1 > 0\n",
    "    future_l2 = (x - x2) / px2 > 0 and (y - y2) / py2 > 0\n",
    "\n",
    "    return future_l1 and future_l2"
   ]
  },
  {
   "cell_type": "code",
   "execution_count": 82,
   "id": "928d38ec-2a57-4979-b099-68f4a92a0ff2",
   "metadata": {
    "tags": []
   },
   "outputs": [],
   "source": [
    "def is_valid_intersection(l1, l2, min_bound, max_bound):\n",
    "    if l1['slope'] == l2['slope']:\n",
    "        if l1['intercept'] == l2['intercept']:\n",
    "            return True\n",
    "        else:\n",
    "            return False\n",
    "    else:\n",
    "        D = -l1['slope'] + l2['slope']\n",
    "        Dx = l1['intercept'] - l2['intercept']\n",
    "        Dy = -l1['slope'] * l2['intercept'] + l2['slope'] * l1['intercept']\n",
    "        x, y = Dx/D, Dy/D\n",
    "        valid_x = min_bound <= x <= max_bound\n",
    "        valid_y = min_bound <= y <= max_bound\n",
    "        in_future = future_intersection(x, y, l1, l2)\n",
    "        \n",
    "        return valid_x and valid_y and in_future"
   ]
  },
  {
   "cell_type": "code",
   "execution_count": 84,
   "id": "3edbe08c-f30d-461a-99ae-ed4ff6a4837e",
   "metadata": {
    "tags": []
   },
   "outputs": [
    {
     "data": {
      "text/plain": [
       "13910"
      ]
     },
     "execution_count": 84,
     "metadata": {},
     "output_type": "execute_result"
    }
   ],
   "source": [
    "def part1(data, min_bound, max_bound):\n",
    "    parsed_data = parse_data(data)\n",
    "    line_pairs = list(itertools.combinations(range(len(parsed_data)), 2))\n",
    "    valid_intersection_count = 0\n",
    "    for l1, l2 in line_pairs:\n",
    "        if is_valid_intersection(parsed_data[l1], parsed_data[l2], min_bound, max_bound):\n",
    "            valid_intersection_count += 1\n",
    "\n",
    "    return valid_intersection_count     \n",
    "part1(data, 200000000000000, 400000000000000)"
   ]
  },
  {
   "cell_type": "code",
   "execution_count": null,
   "id": "9875f00b-30d5-4522-9c69-2b3477522fed",
   "metadata": {},
   "outputs": [],
   "source": []
  }
 ],
 "metadata": {
  "kernelspec": {
   "display_name": "Python 3 (ipykernel)",
   "language": "python",
   "name": "python3"
  },
  "language_info": {
   "codemirror_mode": {
    "name": "ipython",
    "version": 3
   },
   "file_extension": ".py",
   "mimetype": "text/x-python",
   "name": "python",
   "nbconvert_exporter": "python",
   "pygments_lexer": "ipython3",
   "version": "3.10.11"
  }
 },
 "nbformat": 4,
 "nbformat_minor": 5
}
