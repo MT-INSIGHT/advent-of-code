{
 "cells": [
  {
   "cell_type": "code",
   "execution_count": 1,
   "id": "77edb324-7aaa-4a2e-bd78-7cc44514be86",
   "metadata": {
    "tags": []
   },
   "outputs": [],
   "source": [
    "import re"
   ]
  },
  {
   "cell_type": "code",
   "execution_count": 2,
   "id": "17dc3833-ee69-4028-bd4b-25b4f3b3a776",
   "metadata": {
    "tags": []
   },
   "outputs": [],
   "source": [
    "data = open('data/day5.txt', 'r').read()"
   ]
  },
  {
   "cell_type": "code",
   "execution_count": 3,
   "id": "4caca588-fed9-4183-8e30-1322f7fc74e6",
   "metadata": {
    "scrolled": true,
    "tags": []
   },
   "outputs": [],
   "source": [
    "example = \"\"\"seeds: 79 14 55 13\n",
    "\n",
    "seed-to-soil map:\n",
    "50 98 2\n",
    "52 50 48\n",
    "\n",
    "soil-to-fertilizer map:\n",
    "0 15 37\n",
    "37 52 2\n",
    "39 0 15\n",
    "\n",
    "fertilizer-to-water map:\n",
    "49 53 8\n",
    "0 11 42\n",
    "42 0 7\n",
    "57 7 4\n",
    "\n",
    "water-to-light map:\n",
    "88 18 7\n",
    "18 25 70\n",
    "\n",
    "light-to-temperature map:\n",
    "45 77 23\n",
    "81 45 19\n",
    "68 64 13\n",
    "\n",
    "temperature-to-humidity map:\n",
    "0 69 1\n",
    "1 0 69\n",
    "\n",
    "humidity-to-location map:\n",
    "60 56 37\n",
    "56 93 4\"\"\""
   ]
  },
  {
   "cell_type": "code",
   "execution_count": 4,
   "id": "f029117b-5f70-47f6-bb02-15d6194e35ef",
   "metadata": {
    "tags": []
   },
   "outputs": [
    {
     "data": {
      "text/plain": [
       "331445006"
      ]
     },
     "execution_count": 4,
     "metadata": {},
     "output_type": "execute_result"
    }
   ],
   "source": [
    "def part1(data):\n",
    "    values = data.split('\\n\\n')\n",
    "    seeds = [int(seed) for seed in re.findall('\\d+', values[0])]\n",
    "    maps = values[1:]\n",
    "\n",
    "    for map in maps:\n",
    "        ranges = [re.findall('\\d+', mapping) for mapping in map.split('\\n')[1:]]\n",
    "        for index, seed in enumerate(seeds):\n",
    "            for (dest_start, source_start, range_len) in ranges:\n",
    "                # Find where the the seed is in the source range\n",
    "                if int(source_start) <= seed < int(source_start) + int(range_len):\n",
    "                    # Calculate the destination value\n",
    "                    seeds[index] = int(dest_start) + (seed - int(source_start))\n",
    "    \n",
    "    return seeds\n",
    "min(part1(data))"
   ]
  },
  {
   "cell_type": "code",
   "execution_count": 5,
   "id": "080b7b92-3502-4fe1-87b6-1a92d24475a7",
   "metadata": {
    "tags": []
   },
   "outputs": [
    {
     "data": {
      "text/plain": [
       "6472060"
      ]
     },
     "execution_count": 5,
     "metadata": {},
     "output_type": "execute_result"
    }
   ],
   "source": [
    "def part2(data):\n",
    "    \"\"\"\n",
    "    This function operates off the idea that we don't need to convert the full range of values for all seed ranges\n",
    "    We just need to convert the min and max of any applicable seed ranges and take the minimum of the starting indexes\n",
    "    \"\"\"\n",
    "    values = data.split('\\n\\n')\n",
    "    seeds = [int(seed) for seed in re.findall('\\d+', values[0])]\n",
    "    # Turn starts and lengths into seed ranges\n",
    "    seed_ranges = [(seeds[index - 1], seeds[index - 1] + val) for index, val in enumerate(seeds) if index % 2 != 0]\n",
    "    maps = values[1:]\n",
    "    # Add initial seed ranges to mapped range dictionary\n",
    "    key = ' '.join(re.findall('[a-zA-Z]+', values[0]))\n",
    "    mapped_ranges = {key: seed_ranges}\n",
    "\n",
    "    for index, map in enumerate(maps):\n",
    "        ranges = [re.findall('\\d+', mapping) for mapping in map.split('\\n')[1:]]\n",
    "        curr_seed_ranges = mapped_ranges[key]  # retrieve the seed ranges for the current key\n",
    "        key = ' '.join(re.findall('[a-zA-Z]+', map))\n",
    "        mapped_ranges[key] = []\n",
    "        while len(curr_seed_ranges) != 0:\n",
    "            (seed_range_start, seed_range_end) = curr_seed_ranges.pop()\n",
    "            added = False\n",
    "            for (dest_start, source_start, range_len) in ranges:\n",
    "                # Find where the start of the current seed range is in the source range\n",
    "                if int(source_start) <= seed_range_start < int(source_start) + int(range_len):\n",
    "                    new_seed_range_start = int(dest_start) + (seed_range_start - int(source_start))\n",
    "                    # Handle case where the end of the current seed range is also in the source range\n",
    "                    if seed_range_end < int(source_start) + int(range_len):\n",
    "                        new_seed_range_end = int(dest_start) + (seed_range_end - int(source_start))\n",
    "                        mapped_ranges[key].append((new_seed_range_start, new_seed_range_end))  # add to the next iterations current ranges\n",
    "                        added = True\n",
    "                    # Handle case where the end of the current seed range is not in the source range\n",
    "                    else:\n",
    "                        new_seed_range_end = int(dest_start) + int(range_len) - 1  # end is the max of the destination range\n",
    "                        mapped_ranges[key].append((new_seed_range_start, new_seed_range_end))\n",
    "                        added = True\n",
    "                        add_seed_range_start = int(source_start) + int(range_len)  # new start is the max of the source range + 1\n",
    "                        curr_seed_ranges.append((add_seed_range_start, seed_range_end))  # add newly split range to this iterations current ranges\n",
    "            # Handle case where no appropriate ranges are found\n",
    "            if not added:\n",
    "                mapped_ranges[key].append((seed_range_start, seed_range_end))  # add as is to the next iterations current ranges\n",
    "    \n",
    "    final_ranges = mapped_ranges[key]  # the final set of mapped ranges are the location ranges\n",
    "    min_location = min([start for (start, end) in final_ranges])  # the min of the start indexes in the final ranges represents the minimum value\n",
    "        \n",
    "    return min_location\n",
    "part2(data)"
   ]
  },
  {
   "cell_type": "code",
   "execution_count": null,
   "id": "0a86e79d-3632-4ccf-b567-9e4e7cbf77ee",
   "metadata": {},
   "outputs": [],
   "source": []
  }
 ],
 "metadata": {
  "kernelspec": {
   "display_name": "Python 3 (ipykernel)",
   "language": "python",
   "name": "python3"
  },
  "language_info": {
   "codemirror_mode": {
    "name": "ipython",
    "version": 3
   },
   "file_extension": ".py",
   "mimetype": "text/x-python",
   "name": "python",
   "nbconvert_exporter": "python",
   "pygments_lexer": "ipython3",
   "version": "3.10.11"
  }
 },
 "nbformat": 4,
 "nbformat_minor": 5
}
