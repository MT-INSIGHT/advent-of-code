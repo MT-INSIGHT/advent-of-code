{
 "cells": [
  {
   "cell_type": "code",
   "execution_count": 20,
   "id": "6b6f5638-6f59-4511-b492-60a754047089",
   "metadata": {
    "tags": []
   },
   "outputs": [],
   "source": [
    "import networkx as nx"
   ]
  },
  {
   "cell_type": "code",
   "execution_count": 10,
   "id": "531472e8-b16b-4249-ba35-818b15a7eff3",
   "metadata": {
    "tags": []
   },
   "outputs": [],
   "source": [
    "data = open('data/day25.txt', 'r').read()"
   ]
  },
  {
   "cell_type": "code",
   "execution_count": 11,
   "id": "28a549ac-4afe-468a-b01d-66223da7ad66",
   "metadata": {
    "tags": []
   },
   "outputs": [],
   "source": [
    "example = \"\"\"jqt: rhn xhk nvd\n",
    "rsh: frs pzl lsr\n",
    "xhk: hfx\n",
    "cmg: qnr nvd lhk bvb\n",
    "rhn: xhk bvb hfx\n",
    "bvb: xhk hfx\n",
    "pzl: lsr hfx nvd\n",
    "qnr: nvd\n",
    "ntq: jqt hfx bvb xhk\n",
    "nvd: lhk\n",
    "lsr: lhk\n",
    "rzs: qnr cmg lsr rsh\n",
    "frs: qnr lhk lsr\"\"\""
   ]
  },
  {
   "cell_type": "code",
   "execution_count": 21,
   "id": "de20d8b6-b0fc-4be6-9679-61f32202e90a",
   "metadata": {
    "tags": []
   },
   "outputs": [
    {
     "data": {
      "text/plain": [
       "<networkx.classes.graph.Graph at 0x250bdf24670>"
      ]
     },
     "execution_count": 21,
     "metadata": {},
     "output_type": "execute_result"
    }
   ],
   "source": [
    "def create_graph(data):\n",
    "    g = nx.Graph()\n",
    "    for line in data.split('\\n'):\n",
    "        left, connected = line.split(': ')\n",
    "        connected = connected.split(' ')\n",
    "        for right in connected:\n",
    "            g.add_edge(left, right)\n",
    "    return g\n",
    "create_graph(example)"
   ]
  },
  {
   "cell_type": "code",
   "execution_count": 29,
   "id": "49d3020a-9143-4e97-bb5c-3ac2e9627736",
   "metadata": {
    "tags": []
   },
   "outputs": [
    {
     "data": {
      "text/plain": [
       "562978"
      ]
     },
     "execution_count": 29,
     "metadata": {},
     "output_type": "execute_result"
    }
   ],
   "source": [
    "def part1(data):\n",
    "    \"\"\"\n",
    "    Originally went for a brute-force removal of 3 nodes and checking for 2 groups\n",
    "    But Reddit reminded me that this boils down to a min-cut problem \n",
    "    \"\"\"\n",
    "    g = create_graph(data)\n",
    "    for a, b in nx.minimum_edge_cut(g):\n",
    "        g.remove_edge(a, b)\n",
    "\n",
    "    return np.prod([len(group) for group in list(nx.connected_components(g))])\n",
    "part1(data)"
   ]
  }
 ],
 "metadata": {
  "kernelspec": {
   "display_name": "Python 3 (ipykernel)",
   "language": "python",
   "name": "python3"
  },
  "language_info": {
   "codemirror_mode": {
    "name": "ipython",
    "version": 3
   },
   "file_extension": ".py",
   "mimetype": "text/x-python",
   "name": "python",
   "nbconvert_exporter": "python",
   "pygments_lexer": "ipython3",
   "version": "3.10.11"
  }
 },
 "nbformat": 4,
 "nbformat_minor": 5
}
