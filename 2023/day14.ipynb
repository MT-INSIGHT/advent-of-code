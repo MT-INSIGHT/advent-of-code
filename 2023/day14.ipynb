{
 "cells": [
  {
   "cell_type": "code",
   "execution_count": 34,
   "id": "af502dd1-bf0d-4b20-b499-3b9bd4f260a7",
   "metadata": {
    "tags": []
   },
   "outputs": [],
   "source": [
    "import re"
   ]
  },
  {
   "cell_type": "code",
   "execution_count": 39,
   "id": "17dc3833-ee69-4028-bd4b-25b4f3b3a776",
   "metadata": {
    "tags": []
   },
   "outputs": [],
   "source": [
    "data = open('data/day14.txt', 'r').read()"
   ]
  },
  {
   "cell_type": "code",
   "execution_count": 6,
   "id": "5b8c220d-2cae-41b8-8a92-5262c5ea1faf",
   "metadata": {
    "tags": []
   },
   "outputs": [],
   "source": [
    "example = \"\"\"O....#....\n",
    "O.OO#....#\n",
    ".....##...\n",
    "OO.#O....O\n",
    ".O.....O#.\n",
    "O.#..O.#.#\n",
    "..O..#O..O\n",
    ".......O..\n",
    "#....###..\n",
    "#OO..#....\"\"\""
   ]
  },
  {
   "cell_type": "code",
   "execution_count": 26,
   "id": "ceb36d24-5461-46eb-9676-839f0b03f78e",
   "metadata": {
    "tags": []
   },
   "outputs": [],
   "source": [
    "def move_rock_north(grid, row, col):\n",
    "    if row == 0:\n",
    "        return (0, col)\n",
    "    \n",
    "    if grid[row - 1][col] not in ['#', 'O']:\n",
    "        return move_rock_north(grid, row - 1, col)\n",
    "    else:\n",
    "        return (row, col)"
   ]
  },
  {
   "cell_type": "code",
   "execution_count": 42,
   "id": "5b760b01-19fb-4343-af8c-e705ceaa0c36",
   "metadata": {
    "tags": []
   },
   "outputs": [],
   "source": [
    "def move_all_rocks_north(grid):\n",
    "    new_grid = [['#' if grid[row][col] == '#' else '.' for col in range(len(grid[row]))] for row in range(len(grid))]\n",
    "\n",
    "    for row in range(len(grid)):\n",
    "        for col in range(len(grid[row])):\n",
    "            if grid[row][col] == 'O':\n",
    "                (moved_row, moved_col) = move_rock_north(new_grid, row, col)\n",
    "                new_grid[moved_row][moved_col] = 'O'\n",
    "    \n",
    "    return new_grid"
   ]
  },
  {
   "cell_type": "code",
   "execution_count": 240,
   "id": "287ec318-2fa7-430b-a089-c97f294e730f",
   "metadata": {
    "tags": []
   },
   "outputs": [
    {
     "data": {
      "text/plain": [
       "111339"
      ]
     },
     "execution_count": 240,
     "metadata": {},
     "output_type": "execute_result"
    }
   ],
   "source": [
    "def part1(data):\n",
    "    grid = [list(line) for line in data.split('\\n')]\n",
    "    new_grid = move_all_rocks_north(grid)\n",
    "    \n",
    "    total_load = 0\n",
    "    max_load = len(new_grid)\n",
    "    for row_index, row in enumerate(new_grid):\n",
    "        load = max_load - row_index\n",
    "        num_rocks = len(re.findall('O', ''.join(row)))\n",
    "        total_load += load * num_rocks\n",
    "    \n",
    "    return total_load\n",
    "part1(data)        "
   ]
  },
  {
   "cell_type": "code",
   "execution_count": 108,
   "id": "6966ae4f-710e-445c-93a1-55ab3effd281",
   "metadata": {
    "tags": []
   },
   "outputs": [],
   "source": [
    "def flip_layout(layout):\n",
    "    \"\"\"\n",
    "    Transpose our layout storing the rows and columns of coordinates\n",
    "    \"\"\"\n",
    "    flipped_layout = {}\n",
    "    for row in layout:\n",
    "        for col in layout[row]:\n",
    "            if col in flipped_layout:\n",
    "                flipped_layout[col].append(row)\n",
    "            else: \n",
    "                flipped_layout[col] = [row]\n",
    "                \n",
    "    return flipped_layout"
   ]
  },
  {
   "cell_type": "code",
   "execution_count": 262,
   "id": "baeb7122-ba63-4bab-baf4-603253b584c6",
   "metadata": {
    "tags": []
   },
   "outputs": [],
   "source": [
    "def shift_stones(rocks, stones, direction, col_bound):\n",
    "    \"\"\"\n",
    "    Shift stones as close as possible to their right bounds, whether that's the true bound or a rock\n",
    "    \"\"\"\n",
    "    new_stones = {}\n",
    "    for row_index, stone_row in stones.items():\n",
    "        new_stone_row = []\n",
    "        remaining_stones = len(stone_row)\n",
    "        # Add additional bounds for either end of the row\n",
    "        row_rocks = [-1] + rocks.get(row_index, []) + [col_bound]\n",
    "        # Shift stones towards their left bounds\n",
    "        for bound_index in range(1, len(row_rocks)):\n",
    "            left_bound, right_bound = row_rocks[bound_index - 1], row_rocks[bound_index]\n",
    "            # Check for shifting stones when there's a gap between bounds\n",
    "            if right_bound - left_bound > 1:\n",
    "                moving_stones = [col for col in stone_row if left_bound < col < right_bound]\n",
    "                if len(moving_stones) > 0:\n",
    "                    if direction == 'left':\n",
    "                        moved_stones = [(left_bound + 1) + stone for stone in range(len(moving_stones))]\n",
    "                    else:\n",
    "                        moved_stones = [(right_bound - 1) - stone for stone in range(len(moving_stones))]  # -1 is so we move to before the right bound                     \n",
    "                    new_stone_row += moved_stones\n",
    "                    remaining_stones -= len(moved_stones) \n",
    "                    if remaining_stones == 0:  # Break when we've shifted all available stones in the row\n",
    "                        break\n",
    "        new_stones[row_index] = new_stone_row\n",
    "    \n",
    "    return new_stones"
   ]
  },
  {
   "cell_type": "code",
   "execution_count": 274,
   "id": "3b2fc500-163f-47bc-9f15-baf1bc0d8a6e",
   "metadata": {
    "tags": []
   },
   "outputs": [],
   "source": [
    "def print_grid(rocks, stones, max_row, max_col):\n",
    "    \"\"\"\n",
    "    Construct the grid from the rocks and stones at a particular step and print it\n",
    "    \"\"\"\n",
    "    grid = [['.' for col in range(max_col)] for row in range(max_row)]\n",
    "    for row, col_list in rocks.items():\n",
    "        for col in col_list:\n",
    "            grid[row][col] = '#'\n",
    "    for row, col_list in stones.items():\n",
    "        for col in col_list:\n",
    "            grid[row][col] = 'O'\n",
    "    \n",
    "    for row in grid:\n",
    "        print(''.join(row))\n",
    "\n",
    "    return grid"
   ]
  },
  {
   "cell_type": "code",
   "execution_count": 337,
   "id": "ce51cb6b-8736-47ea-bd3c-86a5f26cc5d0",
   "metadata": {
    "tags": []
   },
   "outputs": [],
   "source": [
    "def spin_cycle(rocks, stones, row_bound, col_bound):\n",
    "    \"\"\"\n",
    "    Perform a full spin cycle\n",
    "    \"\"\"\n",
    "    flipped_rocks = flip_layout(rocks)\n",
    "    shifted_stones = stones\n",
    "\n",
    "    # Shift north\n",
    "    shifted_stones = shift_stones(flipped_rocks, flip_layout(shifted_stones), 'left', row_bound)\n",
    "    # Shift west\n",
    "    shifted_stones = shift_stones(rocks, flip_layout(shifted_stones), 'left', col_bound)    \n",
    "    # Shift south\n",
    "    shifted_stones = shift_stones(flipped_rocks, flip_layout(shifted_stones), 'right', row_bound)\n",
    "    # Shift east\n",
    "    shifted_stones = shift_stones(rocks, flip_layout(shifted_stones), 'right', col_bound)\n",
    "\n",
    "    return shifted_stones"
   ]
  },
  {
   "cell_type": "code",
   "execution_count": 338,
   "id": "383fa5b0-24f9-4d0e-9a26-81b9e2073e06",
   "metadata": {
    "tags": []
   },
   "outputs": [],
   "source": [
    "def calculate_load(stones, row_bound):\n",
    "    \"\"\"\n",
    "    Calculate total load\n",
    "    \"\"\"\n",
    "    total_load = 0\n",
    "    for row_index, row in stones.items():\n",
    "        load = row_bound - row_index\n",
    "        num_rocks = len(row)\n",
    "        total_load += load * num_rocks\n",
    "    \n",
    "    return total_load"
   ]
  },
  {
   "cell_type": "code",
   "execution_count": 504,
   "id": "9cd049a5-eef4-429b-968a-8525907b7940",
   "metadata": {
    "tags": []
   },
   "outputs": [],
   "source": [
    "def find_load_loop(rocks, stones, row_bound, col_bound, num_cycles):\n",
    "    \"\"\"\n",
    "    Find the point at which there is a loop in the load pattern\n",
    "    \"\"\"\n",
    "    visited = []\n",
    "    prior_visits = {}\n",
    "    loops = {}\n",
    "    shifted_stones = stones\n",
    "    for cycle in range(num_cycles):\n",
    "        shifted_stones = spin_cycle(rocks, shifted_stones, row_bound, col_bound)\n",
    "        load = calculate_load(shifted_stones, row_bound)\n",
    "        \n",
    "        for key in loops:\n",
    "            loops[key].append(load)\n",
    "        \n",
    "        if load not in loops:\n",
    "            loops[load] = []\n",
    "        else:\n",
    "            if load not in prior_visits:\n",
    "                prior_visits[load] = [sorted(loops[load])]\n",
    "            else:\n",
    "                if sorted(loops[load]) in prior_visits[load] and len(set(loops[load])) > 1:\n",
    "                    unique_loop_loads = [loop_load for loop_load in loops[load] if loops[load].count(loop_load) == 1]\n",
    "                    if all([sorted(loops[load]) in prior_visits[unique_loop_load] for unique_loop_load in unique_loop_loads]):\n",
    "                        pattern_index = loops[load].index(load)\n",
    "                        pattern = loops[load][pattern_index:] + loops[load][:pattern_index]\n",
    "                        return (cycle + 1, pattern)\n",
    "                prior_visits[load].append(sorted(loops[load]))\n",
    "                loops[load] = []             \n",
    "        \n",
    "        "
   ]
  },
  {
   "cell_type": "code",
   "execution_count": 509,
   "id": "4583d97d-0ab3-41b4-b754-c7872235a4a0",
   "metadata": {
    "tags": []
   },
   "outputs": [
    {
     "data": {
      "text/plain": [
       "93736"
      ]
     },
     "execution_count": 509,
     "metadata": {},
     "output_type": "execute_result"
    }
   ],
   "source": [
    "def part2(data, num_cycles):\n",
    "    grid = [list(line) for line in data.split('\\n')]\n",
    "    row_bound, col_bound = len(grid), len(grid[0])\n",
    "    rocks = {row: [col for col in range(len(grid[row])) if grid[row][col] == '#'] for row in range(len(grid)) if len(re.findall('#', ''.join(grid[row]))) != 0}\n",
    "    stones = {row: [col for col in range(len(grid[row])) if grid[row][col] == 'O'] for row in range(len(grid)) if len(re.findall('O', ''.join(grid[row]))) != 0}\n",
    "    loop_cycle, loop = find_load_loop(rocks, stones, row_bound, col_bound, num_cycles)\n",
    "    \n",
    "    return loop[(num_cycles - loop_cycle) % len(loop)]\n",
    "\n",
    "part2(data, 1000000000)"
   ]
  },
  {
   "cell_type": "code",
   "execution_count": null,
   "id": "bd72a7c4-1289-487d-9f71-5c6ac9e747e2",
   "metadata": {},
   "outputs": [],
   "source": []
  }
 ],
 "metadata": {
  "kernelspec": {
   "display_name": "Python 3 (ipykernel)",
   "language": "python",
   "name": "python3"
  },
  "language_info": {
   "codemirror_mode": {
    "name": "ipython",
    "version": 3
   },
   "file_extension": ".py",
   "mimetype": "text/x-python",
   "name": "python",
   "nbconvert_exporter": "python",
   "pygments_lexer": "ipython3",
   "version": "3.10.11"
  }
 },
 "nbformat": 4,
 "nbformat_minor": 5
}
