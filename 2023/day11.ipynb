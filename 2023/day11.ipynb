{
 "cells": [
  {
   "cell_type": "code",
   "execution_count": 80,
   "id": "32607512-ac68-4afb-9490-ba2a2b4ec8ad",
   "metadata": {
    "tags": []
   },
   "outputs": [],
   "source": [
    "import re\n",
    "import math\n",
    "import itertools"
   ]
  },
  {
   "cell_type": "code",
   "execution_count": 95,
   "id": "17dc3833-ee69-4028-bd4b-25b4f3b3a776",
   "metadata": {
    "tags": []
   },
   "outputs": [],
   "source": [
    "data = open('data/day11.txt', 'r').read()"
   ]
  },
  {
   "cell_type": "code",
   "execution_count": 3,
   "id": "5b8c220d-2cae-41b8-8a92-5262c5ea1faf",
   "metadata": {
    "tags": []
   },
   "outputs": [],
   "source": [
    "example = \"\"\"...#......\n",
    ".......#..\n",
    "#.........\n",
    "..........\n",
    "......#...\n",
    ".#........\n",
    ".........#\n",
    "..........\n",
    ".......#..\n",
    "#...#.....\"\"\""
   ]
  },
  {
   "cell_type": "code",
   "execution_count": 11,
   "id": "d49bbbf9-d9ce-4163-9c22-61ecbbae0e70",
   "metadata": {
    "tags": []
   },
   "outputs": [],
   "source": [
    "def print_grid(grid):\n",
    "    \"\"\"\n",
    "    Print the grid\n",
    "    \"\"\"\n",
    "    for row in range(len(grid)):\n",
    "        print(''.join(grid[row]))"
   ]
  },
  {
   "cell_type": "code",
   "execution_count": 74,
   "id": "27d89569-1a96-41cf-8f28-d080e10c1423",
   "metadata": {
    "tags": []
   },
   "outputs": [],
   "source": [
    "def cosmic_expansion(data):\n",
    "    \"\"\"\n",
    "    Any rows or columns with no galaxies ('#') need to be twice as big\n",
    "    \"\"\"\n",
    "    grid = [list(line) for line in data.split('\\n')]\n",
    "    # Expand rows in place\n",
    "    num_rows_expanded = 0\n",
    "    row_index = 0\n",
    "    while (row_index + num_rows_expanded) < len(grid):\n",
    "        if len(re.findall('#', ''.join(grid[row_index + num_rows_expanded]))) == 0:\n",
    "            grid = grid[:row_index + num_rows_expanded] + [grid[row_index + num_rows_expanded]] + grid[row_index + num_rows_expanded:]\n",
    "            num_rows_expanded += 1\n",
    "        row_index += 1\n",
    "\n",
    "    # Expand columns in place\n",
    "    num_cols_expanded = 0\n",
    "    col_index = 0\n",
    "    while (col_index + num_cols_expanded) < len(grid[0]):\n",
    "        row_values = [row[col_index + num_cols_expanded] for row in grid]\n",
    "        if len(re.findall('#', ''.join(row_values))) == 0:\n",
    "            for row_index, row in enumerate(grid):\n",
    "                grid[row_index] = row[:col_index + num_cols_expanded] + [row[col_index + num_cols_expanded]] + row[col_index + num_cols_expanded:]\n",
    "            num_cols_expanded += 1\n",
    "        col_index += 1\n",
    "                \n",
    "    return grid"
   ]
  },
  {
   "cell_type": "code",
   "execution_count": 89,
   "id": "284a2395-11df-4733-9344-e75aaa395583",
   "metadata": {
    "tags": []
   },
   "outputs": [],
   "source": [
    "def find_galaxy_pairs(grid):\n",
    "    \"\"\"\n",
    "    Find the unique pairs of coordinates of all the galaxies ('#') in the grid\n",
    "    \"\"\"\n",
    "    # Find all galaxies ('#')\n",
    "    galaxies = []\n",
    "    for row in range(len(grid)):\n",
    "        for col in range(len(grid[0])):\n",
    "            if grid[row][col] == '#':\n",
    "                galaxies.append((row, col))\n",
    "    \n",
    "    # Find unique combinations of galaxy pairs\n",
    "    galaxy_pairs = list(itertools.combinations(galaxies, 2))\n",
    "    \n",
    "    return galaxy_pairs"
   ]
  },
  {
   "cell_type": "code",
   "execution_count": 90,
   "id": "89cc9bb0-c356-4876-8805-6c78b2a6f1dd",
   "metadata": {
    "tags": []
   },
   "outputs": [],
   "source": [
    "def find_best_step(grid, source, dest):\n",
    "    \"\"\"\n",
    "    Find the best step that decreases the distance between the source and dest\n",
    "    \"\"\"\n",
    "    movements = {'Up': (-1, 0), 'Down': (1, 0), 'Left': (0, -1), 'Right': (0, 1)}\n",
    "    \n",
    "    distance = math.inf\n",
    "    best_step = None\n",
    "    source_row, source_col = source\n",
    "    dest_row, dest_col = dest\n",
    "    for movement, (row_movement, col_movement) in movements.items():\n",
    "        step = (step_row, step_col) = (source_row + row_movement, source_col + col_movement)\n",
    "        distance_to_dest = ((dest_row - step_row) ** 2 + (dest_col - step_col) **2) ** 0.5\n",
    "        if distance_to_dest < distance:\n",
    "            distance = distance_to_dest\n",
    "            best_step = step\n",
    "    \n",
    "    return best_step"
   ]
  },
  {
   "cell_type": "code",
   "execution_count": 91,
   "id": "47a134e5-9344-4f91-8555-5164cae829cf",
   "metadata": {
    "tags": []
   },
   "outputs": [],
   "source": [
    "def find_shortest_path(grid, source, dest):\n",
    "    \"\"\"\n",
    "    Find the shortest path between the source and dest\n",
    "    \"\"\"\n",
    "    source_row, source_col = source\n",
    "    dest_row, dest_col = dest\n",
    "    \n",
    "    total_steps = 0\n",
    "    curr_step = source\n",
    "    while curr_step != dest:\n",
    "        curr_step = find_best_step(grid, curr_step, dest)\n",
    "        total_steps += 1\n",
    "    \n",
    "    return total_steps"
   ]
  },
  {
   "cell_type": "code",
   "execution_count": 96,
   "id": "b45701ad-7568-481f-97d6-e81b459f6bb1",
   "metadata": {
    "tags": []
   },
   "outputs": [
    {
     "data": {
      "text/plain": [
       "9918828"
      ]
     },
     "execution_count": 96,
     "metadata": {},
     "output_type": "execute_result"
    }
   ],
   "source": [
    "def part1(data):\n",
    "    # Perform cosmic expansion\n",
    "    grid = cosmic_expansion(data)\n",
    "    # Find galaxy pairs\n",
    "    galaxy_pairs = find_galaxy_pairs(grid)\n",
    "    # Find the shortest path for each pair\n",
    "    path_lengths = {(source, dest): find_shortest_path(grid, source, dest) for (source, dest) in galaxy_pairs}\n",
    "    \n",
    "    return path_lengths\n",
    "sum(part1(data).values())"
   ]
  },
  {
   "cell_type": "code",
   "execution_count": 101,
   "id": "be784582-0b43-45d6-9a61-a7340b459ff8",
   "metadata": {
    "tags": []
   },
   "outputs": [],
   "source": [
    "def track_cosmic_expansion(data):\n",
    "    \"\"\"\n",
    "    Find all rows or columns with no galaxies ('#')\n",
    "    \"\"\"\n",
    "    grid = [list(line) for line in data.split('\\n')]\n",
    "    row_expansions = []\n",
    "    # Track rows that need to be expanded\n",
    "    for row_index, row in enumerate(grid):\n",
    "        if len(re.findall('#', ''.join(row))) == 0:\n",
    "            expanded_row = [(row_index, col_index) for col_index in range(len(grid[row_index]))]\n",
    "            row_expansions += expanded_row\n",
    "\n",
    "    # Track columns that need to be expanded\n",
    "    col_expansions = []\n",
    "    for col_index in range(len(grid[0])):\n",
    "        row_values = [row[col_index] for row in grid]\n",
    "        if len(re.findall('#', ''.join(row_values))) == 0:\n",
    "            expanded_col = [(row_index, col_index) for row_index in range(len(grid))]\n",
    "            col_expansions += expanded_col\n",
    "                \n",
    "    return grid, row_expansions, col_expansions"
   ]
  },
  {
   "cell_type": "code",
   "execution_count": 102,
   "id": "ea32db01-97d8-4254-8a40-3a55f12d0659",
   "metadata": {
    "tags": []
   },
   "outputs": [],
   "source": [
    "def find_best_movement_step(grid, source, dest):\n",
    "    \"\"\"\n",
    "    Find the best movement direction and step that decreases the distance between the source and dest\n",
    "    \"\"\"\n",
    "    movements = {'Up': (-1, 0), 'Down': (1, 0), 'Left': (0, -1), 'Right': (0, 1)}\n",
    "    \n",
    "    distance = math.inf\n",
    "    best_step = None\n",
    "    best_movement_direction = None\n",
    "    source_row, source_col = source\n",
    "    dest_row, dest_col = dest\n",
    "    for movement, (row_movement, col_movement) in movements.items():\n",
    "        step = (step_row, step_col) = (source_row + row_movement, source_col + col_movement)\n",
    "        distance_to_dest = ((dest_row - step_row) ** 2 + (dest_col - step_col) **2) ** 0.5\n",
    "        if distance_to_dest < distance:\n",
    "            distance = distance_to_dest\n",
    "            best_step = step\n",
    "            best_movement_direction = movement\n",
    "    \n",
    "    return best_movement_direction, best_step"
   ]
  },
  {
   "cell_type": "code",
   "execution_count": 133,
   "id": "ce014adb-acd4-40dc-8aa2-b5684e760731",
   "metadata": {
    "tags": []
   },
   "outputs": [],
   "source": [
    "def find_shortest_path_with_multiplier(grid, row_expansions, col_expansions, source, dest, multiplier):\n",
    "    \"\"\"\n",
    "    Find the shortest path between the source and dest, accounting for the expansion multiplier when calculating steps\n",
    "    \"\"\"\n",
    "    expansion_checks = {'Up': row_expansions, 'Down': row_expansions, 'Left': col_expansions, 'Right': col_expansions}\n",
    "\n",
    "    source_row, source_col = source\n",
    "    dest_row, dest_col = dest\n",
    "    \n",
    "    total_steps = 0\n",
    "    curr_step = source\n",
    "    while curr_step != dest:\n",
    "        movement_direction, curr_step = find_best_movement_step(grid, curr_step, dest)\n",
    "        expansion_check = expansion_checks[movement_direction]\n",
    "        if curr_step in expansion_check:\n",
    "            total_steps += multiplier\n",
    "        else:\n",
    "            total_steps += 1\n",
    "    \n",
    "    return total_steps"
   ]
  },
  {
   "cell_type": "code",
   "execution_count": 137,
   "id": "7d10cb1e-e818-4ff6-bb07-20787337dfea",
   "metadata": {
    "tags": []
   },
   "outputs": [
    {
     "data": {
      "text/plain": [
       "692506533832"
      ]
     },
     "execution_count": 137,
     "metadata": {},
     "output_type": "execute_result"
    }
   ],
   "source": [
    "def part2(data, multiplier):\n",
    "    \"\"\"\n",
    "    Takes about 2 minutes 15 for 1M\n",
    "    \"\"\"\n",
    "    # Track cosmic expansion\n",
    "    grid, row_expansions, col_expansions = track_cosmic_expansion(data)\n",
    "    # Find galaxy pairs\n",
    "    galaxy_pairs = find_galaxy_pairs(grid)\n",
    "    # Find the shortest path for each pair\n",
    "    total_path_length = sum([find_shortest_path_with_multiplier(grid, row_expansions, col_expansions, source, dest, multiplier) \n",
    "                             for (source, dest) in galaxy_pairs])\n",
    "\n",
    "    return total_path_length\n",
    "\n",
    "part2(data, 1000000)"
   ]
  },
  {
   "cell_type": "code",
   "execution_count": null,
   "id": "8e9db6fb-7ecc-4c51-aa57-99eca7d2c6c6",
   "metadata": {},
   "outputs": [],
   "source": []
  }
 ],
 "metadata": {
  "kernelspec": {
   "display_name": "Python 3 (ipykernel)",
   "language": "python",
   "name": "python3"
  },
  "language_info": {
   "codemirror_mode": {
    "name": "ipython",
    "version": 3
   },
   "file_extension": ".py",
   "mimetype": "text/x-python",
   "name": "python",
   "nbconvert_exporter": "python",
   "pygments_lexer": "ipython3",
   "version": "3.10.11"
  }
 },
 "nbformat": 4,
 "nbformat_minor": 5
}
