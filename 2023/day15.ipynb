{
 "cells": [
  {
   "cell_type": "code",
   "execution_count": 1,
   "id": "17dc3833-ee69-4028-bd4b-25b4f3b3a776",
   "metadata": {
    "tags": []
   },
   "outputs": [],
   "source": [
    "data = open('data/day15.txt', 'r').read()"
   ]
  },
  {
   "cell_type": "code",
   "execution_count": 2,
   "id": "5b8c220d-2cae-41b8-8a92-5262c5ea1faf",
   "metadata": {
    "tags": []
   },
   "outputs": [],
   "source": [
    "example = \"\"\"rn=1,cm-,qp=3,cm=2,qp-,pc=4,ot=9,ab=5,pc-,pc=6,ot=7\"\"\""
   ]
  },
  {
   "cell_type": "code",
   "execution_count": 3,
   "id": "5580f9bc-bb5e-423c-8ccd-6d90232ca471",
   "metadata": {
    "tags": []
   },
   "outputs": [],
   "source": [
    "def run_hash(string):\n",
    "    curr_value = 0\n",
    "    for char in string:\n",
    "        curr_value += ord(char)\n",
    "        curr_value *=17\n",
    "        curr_value %= 256\n",
    "    return curr_value"
   ]
  },
  {
   "cell_type": "code",
   "execution_count": 4,
   "id": "287ec318-2fa7-430b-a089-c97f294e730f",
   "metadata": {
    "tags": []
   },
   "outputs": [
    {
     "data": {
      "text/plain": [
       "515495"
      ]
     },
     "execution_count": 4,
     "metadata": {},
     "output_type": "execute_result"
    }
   ],
   "source": [
    "def part1(data):\n",
    "    hash_sum = 0\n",
    "    for step in data.split(','):\n",
    "        hash_sum += run_hash(step)\n",
    "    \n",
    "    return hash_sum\n",
    "part1(data)"
   ]
  },
  {
   "cell_type": "code",
   "execution_count": 5,
   "id": "ae6ec5d8-a435-467a-ab14-ad2a19a15430",
   "metadata": {
    "tags": []
   },
   "outputs": [],
   "source": [
    "def run_hashmap(box_values, box_ordering, string):\n",
    "    if '-' in string:\n",
    "        label = string.replace('-', '')\n",
    "        box = run_hash(label)\n",
    "        if box in box_values:\n",
    "            if label in box_values[box]:\n",
    "                del box_values[box][label]  # remove lens\n",
    "                box_ordering[box].remove(label)  # maintain ordering\n",
    "        \n",
    "    else:\n",
    "        label, focal_len = string.split('=')\n",
    "        box = run_hash(label)\n",
    "        if box not in box_values:\n",
    "            box_values[box] = {label: int(focal_len)}\n",
    "            box_ordering[box] = [label]\n",
    "        else:\n",
    "            if label in box_values[box]:\n",
    "                box_values[box][label] = int(focal_len)\n",
    "            else:\n",
    "                box_values[box][label] = int(focal_len)\n",
    "                box_ordering[box].append(label)\n",
    "    \n",
    "    return box_values, box_ordering           \n",
    "    "
   ]
  },
  {
   "cell_type": "code",
   "execution_count": 6,
   "id": "4583d97d-0ab3-41b4-b754-c7872235a4a0",
   "metadata": {
    "tags": []
   },
   "outputs": [
    {
     "data": {
      "text/plain": [
       "229349"
      ]
     },
     "execution_count": 6,
     "metadata": {},
     "output_type": "execute_result"
    }
   ],
   "source": [
    "def part2(data):\n",
    "    results = []\n",
    "    box_values = {}\n",
    "    box_ordering = {}\n",
    "    \n",
    "    # Arrange lens\n",
    "    for step in data.split(','):\n",
    "        box_values, box_ordering = run_hashmap(box_values, box_ordering, step)\n",
    "\n",
    "    # Add up focusing power\n",
    "    focus_power = 0\n",
    "    for box_num, box in box_values.items():\n",
    "        ordering = box_ordering[box_num]\n",
    "        for slot_num, label in enumerate(ordering):\n",
    "            focus_power += (box_num + 1) * (slot_num + 1) * box[label]\n",
    "    \n",
    "    return focus_power\n",
    "part2(data)"
   ]
  }
 ],
 "metadata": {
  "kernelspec": {
   "display_name": "Python 3 (ipykernel)",
   "language": "python",
   "name": "python3"
  },
  "language_info": {
   "codemirror_mode": {
    "name": "ipython",
    "version": 3
   },
   "file_extension": ".py",
   "mimetype": "text/x-python",
   "name": "python",
   "nbconvert_exporter": "python",
   "pygments_lexer": "ipython3",
   "version": "3.10.11"
  }
 },
 "nbformat": 4,
 "nbformat_minor": 5
}
