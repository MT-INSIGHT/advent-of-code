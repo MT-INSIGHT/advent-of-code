{
 "cells": [
  {
   "cell_type": "code",
   "execution_count": 147,
   "id": "bfc55f09-9845-4f48-aa85-3caea56b44c2",
   "metadata": {
    "tags": []
   },
   "outputs": [],
   "source": [
    "import numpy as np"
   ]
  },
  {
   "cell_type": "code",
   "execution_count": 3,
   "id": "17dc3833-ee69-4028-bd4b-25b4f3b3a776",
   "metadata": {
    "tags": []
   },
   "outputs": [],
   "source": [
    "data = open('data/day19.txt', 'r').read()"
   ]
  },
  {
   "cell_type": "code",
   "execution_count": 7,
   "id": "5b8c220d-2cae-41b8-8a92-5262c5ea1faf",
   "metadata": {
    "tags": []
   },
   "outputs": [],
   "source": [
    "example = \"\"\"px{a<2006:qkq,m>2090:A,rfg}\n",
    "pv{a>1716:R,A}\n",
    "lnx{m>1548:A,A}\n",
    "rfg{s<537:gd,x>2440:R,A}\n",
    "qs{s>3448:A,lnx}\n",
    "qkq{x<1416:A,crn}\n",
    "crn{x>2662:A,R}\n",
    "in{s<1351:px,qqz}\n",
    "qqz{s>2770:qs,m<1801:hdj,R}\n",
    "gd{a>3333:R,R}\n",
    "hdj{m>838:A,pv}\n",
    "\n",
    "{x=787,m=2655,a=1222,s=2876}\n",
    "{x=1679,m=44,a=2067,s=496}\n",
    "{x=2036,m=264,a=79,s=2244}\n",
    "{x=2461,m=1339,a=466,s=291}\n",
    "{x=2127,m=1623,a=2188,s=1013}\"\"\""
   ]
  },
  {
   "cell_type": "code",
   "execution_count": 21,
   "id": "47a2b557-3c02-4c80-bddf-5152637210fe",
   "metadata": {
    "tags": []
   },
   "outputs": [],
   "source": [
    "def parse_data(data):\n",
    "    workflows, ratings = data.split('\\n\\n')\n",
    "    \n",
    "    parsed_workflows = {}\n",
    "    for workflow in workflows.split('\\n'):\n",
    "        name, rules = workflow.split('{')\n",
    "        rules = [rule for rule in rules[:-1].split(',')]\n",
    "        parsed_workflows[name] = rules\n",
    "    \n",
    "    parsed_ratings = []\n",
    "    for rating in ratings.split('\\n'):\n",
    "        category_ratings = rating[1:-1].split(',')\n",
    "        parsed_ratings.append({category_rating.split('=')[0]: int(category_rating.split('=')[1]) for category_rating in category_ratings})\n",
    "        \n",
    "    return parsed_workflows, parsed_ratings"
   ]
  },
  {
   "cell_type": "code",
   "execution_count": 20,
   "id": "da9cb33c-01a6-43e2-bd6c-926110c30fcb",
   "metadata": {
    "tags": []
   },
   "outputs": [],
   "source": [
    "def check_passes(check, rating):\n",
    "    category, operator, value = check[0], check[1], int(check[2:])\n",
    "    category_rating = rating[category]\n",
    "    \n",
    "    return category_rating > value if operator == '>' else category_rating < value    "
   ]
  },
  {
   "cell_type": "code",
   "execution_count": 22,
   "id": "0e93baab-b3a5-45ac-b25f-0b6f8e2c4707",
   "metadata": {
    "tags": []
   },
   "outputs": [],
   "source": [
    "def is_accepted(workflows, rating):\n",
    "    dest = 'in'\n",
    "    while dest not in ['R', 'A']:\n",
    "        rules = workflows[dest]\n",
    "        for rule in rules:\n",
    "            if ':' in rule:\n",
    "                check, dest = rule.split(':')\n",
    "                if check_passes(check, rating):\n",
    "                    break\n",
    "            else:\n",
    "                dest = rule\n",
    "                break\n",
    "    \n",
    "    return dest == 'A'"
   ]
  },
  {
   "cell_type": "code",
   "execution_count": 31,
   "id": "bed04b32-6cd7-4753-970d-2df5b1552a58",
   "metadata": {
    "tags": []
   },
   "outputs": [
    {
     "data": {
      "text/plain": [
       "487623"
      ]
     },
     "execution_count": 31,
     "metadata": {},
     "output_type": "execute_result"
    }
   ],
   "source": [
    "def part1(data):\n",
    "    workflows, ratings = parse_data(data)\n",
    "    total_accepted_rating_sum = 0\n",
    "    for rating in ratings:\n",
    "        if is_accepted(workflows, rating):\n",
    "            total_accepted_rating_sum += sum(rating.values())\n",
    "    \n",
    "    return total_accepted_rating_sum\n",
    "part1(data)"
   ]
  },
  {
   "cell_type": "code",
   "execution_count": 87,
   "id": "9fdca777-52b9-461f-8576-9fc982bb4ea6",
   "metadata": {
    "tags": []
   },
   "outputs": [],
   "source": [
    "def create_counter_rule(rule):\n",
    "    check = rule.split(':')[0].replace(rule, '')\n",
    "    if len(check) > 0:\n",
    "        if check[1] == '<':\n",
    "            return check.replace('<', '>=')\n",
    "        else:\n",
    "            return check.replace('>', '<=')\n",
    "    else:\n",
    "        return check"
   ]
  },
  {
   "cell_type": "code",
   "execution_count": 107,
   "id": "b7b7998a-dd9f-4b2b-982d-ed1d7ed7a02e",
   "metadata": {
    "tags": []
   },
   "outputs": [],
   "source": [
    "def add_counter_statements(workflows):\n",
    "    new_workflows = {}\n",
    "    for name, workflow in workflows.items():\n",
    "        counter_rules = [create_counter_rule(rule) for rule in workflow]\n",
    "        full_rules = [workflow[0]]\n",
    "        for i, rule in enumerate(workflow[1:]):\n",
    "            full_prior_rules = '|'.join(counter_rules[:i+1])\n",
    "            full_rule = '|'.join([full_prior_rules, rule]) if ':' in rule else ':'.join([full_prior_rules, rule])\n",
    "            full_rules.append(full_rule)\n",
    "        new_workflows[name] = full_rules\n",
    "    \n",
    "    return new_workflows"
   ]
  },
  {
   "cell_type": "code",
   "execution_count": 126,
   "id": "0797a73f-5903-438d-b799-765b8b8ec619",
   "metadata": {
    "tags": []
   },
   "outputs": [],
   "source": [
    "def get_accepted_paths(workflows, source_rule, path):\n",
    "    if ':' in source_rule:\n",
    "        check, dest = source_rule.split(':')\n",
    "        new_path = path + [check]\n",
    "    else:\n",
    "        dest = source_rule\n",
    "        new_path = path\n",
    "       \n",
    "    if dest == 'A':\n",
    "        return '|'.join(new_path)\n",
    "    elif dest == 'R':\n",
    "        return None\n",
    "    else:\n",
    "        dest_rules = workflows[dest]   \n",
    "        accepted_paths = []\n",
    "        for dest_rule in dest_rules:\n",
    "            accepted_path = get_accepted_paths(workflows, dest_rule, new_path)\n",
    "            if accepted_path is not None:\n",
    "                accepted_paths.append(accepted_path)\n",
    "        return ';'.join(accepted_paths) if len(accepted_paths) > 0 else None"
   ]
  },
  {
   "cell_type": "code",
   "execution_count": 212,
   "id": "e5a9f8fe-6454-4e69-b658-f81e23ae23ff",
   "metadata": {
    "tags": []
   },
   "outputs": [],
   "source": [
    "def parse_rule_into_interval(rule):\n",
    "    operator = re.findall('(>=|<=|>|<)', rule)[0]\n",
    "    value = int(re.findall('\\d+', rule)[0])\n",
    "    \n",
    "    match operator:\n",
    "        case '>=':\n",
    "            return (value, 4000)\n",
    "        case '<=':\n",
    "            return (1, value)\n",
    "        case '>':\n",
    "            return (value + 1, 4000)\n",
    "        case '<':\n",
    "            return (1, value - 1)"
   ]
  },
  {
   "cell_type": "code",
   "execution_count": 216,
   "id": "714f3827-f9d4-4299-a64e-43e0ad2b491c",
   "metadata": {
    "tags": []
   },
   "outputs": [],
   "source": [
    "def calculate_num_distinct_combinations(accepted_paths):\n",
    "    num_distinct_combinations = 0\n",
    "    for path in accepted_paths:\n",
    "        # Get category intervals\n",
    "        category_intervals = {}\n",
    "        for rule in path.split('|'):\n",
    "            category = rule[0]\n",
    "            interval = parse_rule_into_interval(rule)\n",
    "            if category in category_intervals:\n",
    "                category_intervals[category].append(interval)\n",
    "            else:\n",
    "                category_intervals[category] = [interval]\n",
    "\n",
    "        # Find the intersection of each categories intervals\n",
    "        path_allowed_category_values = {}\n",
    "        for category in ['x', 'm', 'a', 's']:\n",
    "            intervals = category_intervals.get(category, [(1, 4000)])\n",
    "            min_bound = max([interval_min for (interval_min, interval_max) in intervals])\n",
    "            max_bound = min([interval_max for (interval_min, interval_max) in intervals])\n",
    "            path_allowed_category_values[category] = (min_bound, max_bound)\n",
    "\n",
    "        num_distinct_combinations += np.prod([(range_max - range_min + 1) \n",
    "                                              for (range_min, range_max) in path_allowed_category_values.values()], dtype='int64')\n",
    "    return num_distinct_combinations      "
   ]
  },
  {
   "cell_type": "code",
   "execution_count": 217,
   "id": "1f321b81-f44e-4af8-a597-d46e57fe6242",
   "metadata": {
    "tags": []
   },
   "outputs": [],
   "source": [
    "def part2(data):\n",
    "    workflows, ratings = parse_data(data)\n",
    "    full_workflows = add_counter_statements(workflows)\n",
    "    accepted_paths = get_accepted_paths(full_workflows, 'in', []).split(';')\n",
    "    num_distinct_combinations = calculate_num_distinct_combinations(accepted_paths)\n",
    "    \n",
    "    return num_distinct_combinations"
   ]
  },
  {
   "cell_type": "code",
   "execution_count": 219,
   "id": "d778d122-1e71-4f18-b82b-f7ba463e67e4",
   "metadata": {
    "tags": []
   },
   "outputs": [
    {
     "data": {
      "text/plain": [
       "113550238315130"
      ]
     },
     "execution_count": 219,
     "metadata": {},
     "output_type": "execute_result"
    }
   ],
   "source": [
    "part2(data)"
   ]
  },
  {
   "cell_type": "code",
   "execution_count": null,
   "id": "4de09e41-82e6-441f-a373-2a4820365c5d",
   "metadata": {},
   "outputs": [],
   "source": []
  }
 ],
 "metadata": {
  "kernelspec": {
   "display_name": "Python 3 (ipykernel)",
   "language": "python",
   "name": "python3"
  },
  "language_info": {
   "codemirror_mode": {
    "name": "ipython",
    "version": 3
   },
   "file_extension": ".py",
   "mimetype": "text/x-python",
   "name": "python",
   "nbconvert_exporter": "python",
   "pygments_lexer": "ipython3",
   "version": "3.10.11"
  }
 },
 "nbformat": 4,
 "nbformat_minor": 5
}
