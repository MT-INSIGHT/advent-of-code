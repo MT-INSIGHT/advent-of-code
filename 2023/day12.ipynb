{
 "cells": [
  {
   "cell_type": "code",
   "execution_count": 5,
   "id": "32607512-ac68-4afb-9490-ba2a2b4ec8ad",
   "metadata": {
    "tags": []
   },
   "outputs": [],
   "source": [
    "import re\n",
    "import math\n",
    "import itertools"
   ]
  },
  {
   "cell_type": "code",
   "execution_count": 265,
   "id": "17dc3833-ee69-4028-bd4b-25b4f3b3a776",
   "metadata": {
    "tags": []
   },
   "outputs": [],
   "source": [
    "data = open('data/day12.txt', 'r').read()"
   ]
  },
  {
   "cell_type": "code",
   "execution_count": 1,
   "id": "5b8c220d-2cae-41b8-8a92-5262c5ea1faf",
   "metadata": {
    "tags": []
   },
   "outputs": [],
   "source": [
    "example = \"\"\"???.### 1,1,3\n",
    ".??..??...?##. 1,1,3\n",
    "?#?#?#?#?#?#?#? 1,3,1,6\n",
    "????.#...#... 4,1,1\n",
    "????.######..#####. 1,6,5\n",
    "?###???????? 3,2,1\"\"\""
   ]
  },
  {
   "cell_type": "code",
   "execution_count": 295,
   "id": "75143351-4a58-4c89-ba26-a913b02679a8",
   "metadata": {
    "tags": []
   },
   "outputs": [],
   "source": [
    "def count_arrangements(index, adjusted_springs, springs, expected_group_lens):\n",
    "    # Reached the end of the current string\n",
    "    if index == len(springs):\n",
    "        actual_group_lens = [len(group) for group in re.findall('#+', adjusted_springs)]        \n",
    "        return int(actual_group_lens == expected_group_lens)\n",
    "    \n",
    "    else:\n",
    "        if springs[index] == '?':\n",
    "            return count_arrangements(index + 1, adjusted_springs + '#', springs, expected_group_lens) + count_arrangements(index + 1, adjusted_springs + '.', springs, expected_group_lens)\n",
    "        else: \n",
    "            return count_arrangements(index + 1, adjusted_springs + springs[index], springs, expected_group_lens)"
   ]
  },
  {
   "cell_type": "code",
   "execution_count": 297,
   "id": "7d5a4f66-3a7b-4d64-b000-f1e3f7375ce4",
   "metadata": {
    "tags": []
   },
   "outputs": [
    {
     "data": {
      "text/plain": [
       "7307"
      ]
     },
     "execution_count": 297,
     "metadata": {},
     "output_type": "execute_result"
    }
   ],
   "source": [
    "def part1(data):\n",
    "    total_arrangements = {}\n",
    "    for index, record in enumerate(data.split('\\n')):\n",
    "        springs, conditions = record.split(' ')\n",
    "        expected_group_lens = [int(val) for val in re.findall('\\d+', conditions)]\n",
    "        total_arrangements[index] = count_arrangements(0, '', springs, expected_group_lens)\n",
    "        \n",
    "    return total_arrangements\n",
    "\n",
    "sum(part1(data).values())"
   ]
  },
  {
   "cell_type": "code",
   "execution_count": null,
   "id": "f2077532-2a9a-4ba1-a9c0-a05d8512423d",
   "metadata": {},
   "outputs": [],
   "source": []
  }
 ],
 "metadata": {
  "kernelspec": {
   "display_name": "Python 3 (ipykernel)",
   "language": "python",
   "name": "python3"
  },
  "language_info": {
   "codemirror_mode": {
    "name": "ipython",
    "version": 3
   },
   "file_extension": ".py",
   "mimetype": "text/x-python",
   "name": "python",
   "nbconvert_exporter": "python",
   "pygments_lexer": "ipython3",
   "version": "3.10.11"
  }
 },
 "nbformat": 4,
 "nbformat_minor": 5
}
