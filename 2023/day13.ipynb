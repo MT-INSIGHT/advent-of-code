{
 "cells": [
  {
   "cell_type": "code",
   "execution_count": 101,
   "id": "32607512-ac68-4afb-9490-ba2a2b4ec8ad",
   "metadata": {
    "tags": []
   },
   "outputs": [],
   "source": [
    "from copy import deepcopy"
   ]
  },
  {
   "cell_type": "code",
   "execution_count": 46,
   "id": "17dc3833-ee69-4028-bd4b-25b4f3b3a776",
   "metadata": {
    "tags": []
   },
   "outputs": [],
   "source": [
    "data = open('data/day13.txt', 'r').read()"
   ]
  },
  {
   "cell_type": "code",
   "execution_count": 3,
   "id": "5b8c220d-2cae-41b8-8a92-5262c5ea1faf",
   "metadata": {
    "tags": []
   },
   "outputs": [],
   "source": [
    "example = \"\"\"#.##..##.\n",
    "..#.##.#.\n",
    "##......#\n",
    "##......#\n",
    "..#.##.#.\n",
    "..##..##.\n",
    "#.#.##.#.\n",
    "\n",
    "#...##..#\n",
    "#....#..#\n",
    "..##..###\n",
    "#####.##.\n",
    "#####.##.\n",
    "..##..###\n",
    "#....#..#\"\"\""
   ]
  },
  {
   "cell_type": "code",
   "execution_count": 36,
   "id": "4537076a-d306-4f15-814c-12bec8575203",
   "metadata": {
    "tags": []
   },
   "outputs": [],
   "source": [
    "def is_valid_horizontal_reflection(grid, row_index1, row_index2):\n",
    "    \"\"\"\n",
    "    Recursively iterate back from the proposed line until we either find a deviation or reach the edge of one side of the grid\n",
    "    \"\"\"\n",
    "    # Check if current rows are a match\n",
    "    is_current_match = grid[row_index1] == grid[row_index2]\n",
    "    # Reached bounds\n",
    "    if row_index1 == 0 or row_index2 == len(grid) - 1:        \n",
    "        return is_current_match\n",
    "    # Found deviation\n",
    "    elif not is_current_match:\n",
    "        return False        \n",
    "    # Continuing checking to bounds or deviation\n",
    "    else:\n",
    "        return is_valid_horizontal_reflection(grid, row_index1 - 1, row_index2 + 1)"
   ]
  },
  {
   "cell_type": "code",
   "execution_count": 39,
   "id": "10b0d7ce-5c8d-4a2c-a684-335f23296f9a",
   "metadata": {
    "tags": []
   },
   "outputs": [],
   "source": [
    "def find_horizontal_reflection_line(grid):\n",
    "    \"\"\"\n",
    "    Return the bottom side of the reflection line (also marks number of roows above)\n",
    "    \"\"\"    \n",
    "    for index in range(1, len(grid)):\n",
    "        if is_valid_horizontal_reflection(grid, index - 1, index):            \n",
    "            return index\n",
    "    return None"
   ]
  },
  {
   "cell_type": "code",
   "execution_count": 40,
   "id": "0ce6bc5a-80c1-42d8-a7bf-7b048e70a931",
   "metadata": {
    "tags": []
   },
   "outputs": [],
   "source": [
    "def transpose_grid(grid):\n",
    "    \"\"\"\n",
    "    Transpose the grid so each (row, col) becomes (col, row)\n",
    "    \"\"\"\n",
    "    return [[row[col] for row in grid] for col in range(len(grid[0]))]"
   ]
  },
  {
   "cell_type": "code",
   "execution_count": 47,
   "id": "7d5a4f66-3a7b-4d64-b000-f1e3f7375ce4",
   "metadata": {
    "tags": []
   },
   "outputs": [
    {
     "data": {
      "text/plain": [
       "39939"
      ]
     },
     "execution_count": 47,
     "metadata": {},
     "output_type": "execute_result"
    }
   ],
   "source": [
    "def part1(data):\n",
    "    total = 0\n",
    "    for pattern in data.split('\\n\\n'):\n",
    "        grid = [list(line) for line in pattern.split('\\n')]\n",
    "        horizontal_line = find_horizontal_reflection_line(grid)\n",
    "        if horizontal_line is None:\n",
    "            transposed_grid = transpose_grid(grid)\n",
    "            vertical_line = find_horizontal_reflection_line(transposed_grid)\n",
    "            total += vertical_line\n",
    "        else:\n",
    "            total += (100 * horizontal_line)\n",
    "\n",
    "    return total\n",
    "part1(data)"
   ]
  },
  {
   "cell_type": "code",
   "execution_count": 102,
   "id": "287ec318-2fa7-430b-a089-c97f294e730f",
   "metadata": {
    "tags": []
   },
   "outputs": [],
   "source": [
    "def found_horizontal_smudge(grid, row_index1, row_index2, smudge_found):\n",
    "    \"\"\"\n",
    "    Recursively iterate back from the proposed line until we either find a deviation or reach the edge of one side of the grid\n",
    "    \"\"\"\n",
    "    # Check if current rows are a match\n",
    "    is_current_match = grid[row_index1] == grid[row_index2]\n",
    "    \n",
    "    # Found deviation - potential smudge\n",
    "    if not is_current_match:\n",
    "        deviations = [col_index for col_index in range(len(grid[row_index1])) if grid[row_index1][col_index] != grid[row_index2][col_index]]\n",
    "        if len(deviations) > 1:  # Too many deviations, not a smudge\n",
    "            return False\n",
    "        else:\n",
    "            # Replace smudge\n",
    "            is_current_match = grid[row_index1] == grid[row_index2]  # Update is_current_match\n",
    "            smudge_found = True\n",
    "            \n",
    "    # Reached bounds\n",
    "    if row_index1 == 0 or row_index2 == len(grid) - 1:        \n",
    "        return smudge_found\n",
    "    \n",
    "    # Continuing checking to bounds or deviation\n",
    "    else:\n",
    "        return found_horizontal_smudge(grid, row_index1 - 1, row_index2 + 1, smudge_found)"
   ]
  },
  {
   "cell_type": "code",
   "execution_count": 99,
   "id": "f8a4f749-f93c-46bb-9924-cf69a89191f2",
   "metadata": {
    "tags": []
   },
   "outputs": [],
   "source": [
    "def find_smudged_horizontal_reflection_line(grid):\n",
    "    \"\"\"\n",
    "    Return the bottom side of the reflection line (also marks number of roows above)\n",
    "    \"\"\"    \n",
    "    for index in range(1, len(grid)):\n",
    "        if found_horizontal_smudge(grid, index - 1, index, False):            \n",
    "            return index\n",
    "    return None\n",
    "find_smudged_horizontal_reflection_line(grids[0])"
   ]
  },
  {
   "cell_type": "code",
   "execution_count": 105,
   "id": "14a77d05-792c-466d-9bd6-12fbe89465ed",
   "metadata": {
    "tags": []
   },
   "outputs": [
    {
     "data": {
      "text/plain": [
       "32069"
      ]
     },
     "execution_count": 105,
     "metadata": {},
     "output_type": "execute_result"
    }
   ],
   "source": [
    "def part2(data):\n",
    "    total = 0\n",
    "    for pattern in data.split('\\n\\n'):\n",
    "        grid = [list(line) for line in pattern.split('\\n')]\n",
    "        horizontal_line = find_smudged_horizontal_reflection_line(grid)\n",
    "        if horizontal_line is None:\n",
    "            transposed_grid = transpose_grid(grid)\n",
    "            vertical_line = find_smudged_horizontal_reflection_line(transposed_grid)\n",
    "            if vertical_line is None:\n",
    "                print(pattern)\n",
    "            total += vertical_line\n",
    "        else:\n",
    "            total += (100 * horizontal_line)\n",
    "\n",
    "    return total\n",
    "part2(data)"
   ]
  }
 ],
 "metadata": {
  "kernelspec": {
   "display_name": "Python 3 (ipykernel)",
   "language": "python",
   "name": "python3"
  },
  "language_info": {
   "codemirror_mode": {
    "name": "ipython",
    "version": 3
   },
   "file_extension": ".py",
   "mimetype": "text/x-python",
   "name": "python",
   "nbconvert_exporter": "python",
   "pygments_lexer": "ipython3",
   "version": "3.10.11"
  }
 },
 "nbformat": 4,
 "nbformat_minor": 5
}
