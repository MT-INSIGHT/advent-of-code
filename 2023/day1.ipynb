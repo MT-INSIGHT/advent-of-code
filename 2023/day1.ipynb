{
 "cells": [
  {
   "cell_type": "code",
   "execution_count": 1,
   "id": "17dc3833-ee69-4028-bd4b-25b4f3b3a776",
   "metadata": {
    "tags": []
   },
   "outputs": [],
   "source": [
    "data = open('data/day1.txt', 'r').read()"
   ]
  },
  {
   "cell_type": "code",
   "execution_count": 2,
   "id": "0ac3ea6c-4c20-461d-a2d1-3a8fabc35431",
   "metadata": {
    "tags": []
   },
   "outputs": [
    {
     "data": {
      "text/plain": [
       "55386"
      ]
     },
     "execution_count": 2,
     "metadata": {},
     "output_type": "execute_result"
    }
   ],
   "source": [
    "def part1(data):\n",
    "    calibration_values = []\n",
    "    for line in data.split('\\n'):\n",
    "        digits = [char for char in line if char.isnumeric()]\n",
    "        calibration_values.append(int(f'{digits[0]}{digits[-1]}'))\n",
    "    return calibration_values\n",
    "sum(part1(data))"
   ]
  },
  {
   "cell_type": "code",
   "execution_count": 3,
   "id": "ca12c9ac-34c4-4f29-bdc5-f76c1cced7f5",
   "metadata": {
    "tags": []
   },
   "outputs": [],
   "source": [
    "def get_first_digit(line, direction):\n",
    "    digit_dict = {'one': '1', 'two': '2', 'three': '3', 'four': '4', 'five': '5', 'six': '6', 'seven': '7', 'eight': '8', 'nine': '9'}\n",
    "    for i in range(len(line)):\n",
    "        line_so_far = line[:i+1]\n",
    "        if line[i].isnumeric():\n",
    "            return line[i]\n",
    "        else:\n",
    "            line_so_far = line_so_far[::-1] if direction == 'backward' else line_so_far\n",
    "            for word in digit_dict:\n",
    "                if word in line_so_far:\n",
    "                    return digit_dict[word]\n"
   ]
  },
  {
   "cell_type": "code",
   "execution_count": 4,
   "id": "080b7b92-3502-4fe1-87b6-1a92d24475a7",
   "metadata": {
    "tags": []
   },
   "outputs": [
    {
     "data": {
      "text/plain": [
       "54824"
      ]
     },
     "execution_count": 4,
     "metadata": {},
     "output_type": "execute_result"
    }
   ],
   "source": [
    "def part2(data):\n",
    "    calibration_values = []\n",
    "    for line in data.split('\\n'):\n",
    "        first_digit = get_first_digit(line, 'forward')\n",
    "        last_digit = get_first_digit(line[::-1], 'backward')\n",
    "        calibration_values.append(int(f'{first_digit}{last_digit}'))\n",
    "    return calibration_values\n",
    "sum(part2(data))"
   ]
  },
  {
   "cell_type": "code",
   "execution_count": null,
   "id": "6059848b-f193-4fe2-a803-db88f4396637",
   "metadata": {},
   "outputs": [],
   "source": []
  }
 ],
 "metadata": {
  "kernelspec": {
   "display_name": "Python 3 (ipykernel)",
   "language": "python",
   "name": "python3"
  },
  "language_info": {
   "codemirror_mode": {
    "name": "ipython",
    "version": 3
   },
   "file_extension": ".py",
   "mimetype": "text/x-python",
   "name": "python",
   "nbconvert_exporter": "python",
   "pygments_lexer": "ipython3",
   "version": "3.10.11"
  }
 },
 "nbformat": 4,
 "nbformat_minor": 5
}
