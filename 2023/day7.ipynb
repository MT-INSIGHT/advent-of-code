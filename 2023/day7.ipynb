{
 "cells": [
  {
   "cell_type": "code",
   "execution_count": 1,
   "id": "17dc3833-ee69-4028-bd4b-25b4f3b3a776",
   "metadata": {
    "tags": []
   },
   "outputs": [],
   "source": [
    "data = open('data/day7.txt', 'r').read()"
   ]
  },
  {
   "cell_type": "code",
   "execution_count": 2,
   "id": "4caca588-fed9-4183-8e30-1322f7fc74e6",
   "metadata": {
    "scrolled": true,
    "tags": []
   },
   "outputs": [],
   "source": [
    "example = \"\"\"32T3K 765\n",
    "T55J5 684\n",
    "KK677 28\n",
    "KTJJT 220\n",
    "QQQJA 483\"\"\""
   ]
  },
  {
   "cell_type": "code",
   "execution_count": 3,
   "id": "68f958c1-b2f9-4f26-9426-0f947b50e76e",
   "metadata": {
    "tags": []
   },
   "outputs": [],
   "source": [
    "def categorize_hand(card_counts):\n",
    "    \"\"\"\n",
    "    Categorize the hand type by replacing the actual cards with their unique order by frequency of occurrence\n",
    "    e.g. most frequently occurred card gets A, then B, etc.\n",
    "    \"\"\"\n",
    "    hand_types = {'AAAAA': 'five of a kind', 'AAAAB': 'four of a kind', 'AAABB': 'full house', 'AAABC': 'three of a kind',\n",
    "                  'AABBC': 'two pair', 'AABCD': 'one pair', 'ABCDE': 'high card'}\n",
    "\n",
    "    replacement = 'A'\n",
    "    replaced = []\n",
    "    for card in card_counts: \n",
    "        count = card_counts[card]\n",
    "        replaced += [replacement] * count\n",
    "        replacement = chr(ord(replacement) + 1)\n",
    "    pattern_string = ''.join(replaced)\n",
    "    \n",
    "    return hand_types[pattern_string]"
   ]
  },
  {
   "cell_type": "code",
   "execution_count": 4,
   "id": "863c63be-97c1-45e1-8190-5bd8f95ab9d4",
   "metadata": {
    "tags": []
   },
   "outputs": [],
   "source": [
    "def get_hand_type(hand):\n",
    "    \"\"\"\n",
    "    Categorize the hand as one of the expected types\n",
    "    \"\"\"\n",
    "    # Count occurence of each card in hand\n",
    "    card_counts = {}\n",
    "    for card in hand:\n",
    "        card_counts[card] = card_counts.get(card, 0) + 1\n",
    "    \n",
    "    # Sort by occurrence\n",
    "    sorted_card_counts = dict(sorted(card_counts.items(), key=lambda x:x[1], reverse=True))\n",
    "    \n",
    "    # Map hand to it's type\n",
    "    hand_type = categorize_hand(sorted_card_counts)\n",
    "\n",
    "    return hand_type"
   ]
  },
  {
   "cell_type": "code",
   "execution_count": 5,
   "id": "bac1880f-718b-40d8-9f73-0a86c8ac86b1",
   "metadata": {
    "tags": []
   },
   "outputs": [],
   "source": [
    "def sort_hands(all_hands):\n",
    "    \"\"\"\n",
    "    Sort hands across and within types\n",
    "    \"\"\"\n",
    "    hand_type_order = ['high card', 'one pair', 'two pair', 'three of a kind', 'full house', 'four of a kind', 'five of a kind']\n",
    "    all_sorted_hands = []\n",
    "    for hand_type in hand_type_order:\n",
    "        if hand_type in all_hands:\n",
    "            sorted_type_hands = sorted(all_hands[hand_type], key=lambda x:x[1])  # sort using the ranking string\n",
    "            all_sorted_hands += sorted_type_hands\n",
    "    \n",
    "    return all_sorted_hands"
   ]
  },
  {
   "cell_type": "code",
   "execution_count": 6,
   "id": "d0872064-acf2-401f-a995-77c412708f9e",
   "metadata": {
    "tags": []
   },
   "outputs": [
    {
     "data": {
      "text/plain": [
       "253954294"
      ]
     },
     "execution_count": 6,
     "metadata": {},
     "output_type": "execute_result"
    }
   ],
   "source": [
    "def part1(data):\n",
    "    card_mappings = ['2', '3', '4', '5', '6', '7', '8', '9', 'T', 'J', 'Q', 'K', 'A']\n",
    "    all_hands = {}\n",
    "    for line in data.split('\\n'):\n",
    "        card_counts = {}\n",
    "        hand, bid = line.split(' ')\n",
    "        hand_type = get_hand_type(hand)\n",
    "        # Replace cards with their card order in letters, e.g. A, B, C to easily sort\n",
    "        ranking_string = ''.join([chr(ord('A') + card_mappings.index(card)) for card in hand])\n",
    "        if hand_type in all_hands:\n",
    "            all_hands[hand_type].append((hand, ranking_string, int(bid)))\n",
    "        else:\n",
    "            all_hands[hand_type] = [(hand, ranking_string, int(bid))]\n",
    "\n",
    "    sorted_hands = sort_hands(all_hands)\n",
    "    winnings = [(rank + 1) * hand[2] for (rank, hand) in enumerate(sorted_hands)]\n",
    "\n",
    "    return sorted_hands, winnings\n",
    "    \n",
    "sum(part1(data)[1])"
   ]
  },
  {
   "cell_type": "code",
   "execution_count": 7,
   "id": "9e1c3e0e-0b0a-4bce-99b9-b0cdf5f7c135",
   "metadata": {
    "tags": []
   },
   "outputs": [],
   "source": [
    "def get_hand_type_with_joker(hand):\n",
    "    \"\"\"\n",
    "    Categorize the hand as one of the expected types when Js are jokers\n",
    "    \"\"\"\n",
    "    # Count occurrence of each card in hand\n",
    "    card_counts = {}\n",
    "    for card in hand:\n",
    "        card_counts[card] = card_counts.get(card, 0) + 1\n",
    "    \n",
    "    # Make jokers the highest occurrence card\n",
    "    if len(card_counts.keys()) > 1:\n",
    "        num_jokers = card_counts.get('J', 0)\n",
    "        if 'J' in card_counts:\n",
    "            card_counts.pop('J') \n",
    "    else:  # handles case in which we only have J\n",
    "        num_jokers = 0\n",
    "    sorted_card_tuples = sorted(card_counts.items(), key=lambda x:x[1], reverse=True)    \n",
    "    highest_occurrence_card = sorted_card_tuples[0][0]\n",
    "    sorted_card_counts = dict(sorted_card_tuples)\n",
    "    sorted_card_counts[highest_occurrence_card] += num_jokers\n",
    "    \n",
    "    # Map hand to it's type\n",
    "    hand_type = categorize_hand(sorted_card_counts)\n",
    "\n",
    "    return hand_type"
   ]
  },
  {
   "cell_type": "code",
   "execution_count": 8,
   "id": "7f91b1c7-ef9e-42a5-9a9d-ab8c133c239a",
   "metadata": {
    "tags": []
   },
   "outputs": [
    {
     "data": {
      "text/plain": [
       "254837398"
      ]
     },
     "execution_count": 8,
     "metadata": {},
     "output_type": "execute_result"
    }
   ],
   "source": [
    "def part2(data):\n",
    "    card_mappings = ['J', '2', '3', '4', '5', '6', '7', '8', '9', 'T', 'Q', 'K', 'A']\n",
    "    all_hands = {}\n",
    "    for line in data.split('\\n'):\n",
    "        card_counts = {}\n",
    "        hand, bid = line.split(' ')\n",
    "        hand_type = get_hand_type_with_joker(hand)\n",
    "        # Replace cards with their card order in letters, e.g. A, B, C to easily sort\n",
    "        ranking_string = ''.join([chr(ord('A') + card_mappings.index(card)) for card in hand])\n",
    "        if hand_type in all_hands:\n",
    "            all_hands[hand_type].append((hand, ranking_string, int(bid)))\n",
    "        else:\n",
    "            all_hands[hand_type] = [(hand, ranking_string, int(bid))]\n",
    "\n",
    "    sorted_hands = sort_hands(all_hands)\n",
    "    winnings = [(rank + 1) * hand[2] for (rank, hand) in enumerate(sorted_hands)]\n",
    "\n",
    "    return sorted_hands, winnings\n",
    "    \n",
    "sum(part2(data)[1])"
   ]
  },
  {
   "cell_type": "code",
   "execution_count": null,
   "id": "9d1f5100-f0af-4abe-a1c0-4cdd7c399e6c",
   "metadata": {},
   "outputs": [],
   "source": []
  }
 ],
 "metadata": {
  "kernelspec": {
   "display_name": "Python 3 (ipykernel)",
   "language": "python",
   "name": "python3"
  },
  "language_info": {
   "codemirror_mode": {
    "name": "ipython",
    "version": 3
   },
   "file_extension": ".py",
   "mimetype": "text/x-python",
   "name": "python",
   "nbconvert_exporter": "python",
   "pygments_lexer": "ipython3",
   "version": "3.10.11"
  }
 },
 "nbformat": 4,
 "nbformat_minor": 5
}
