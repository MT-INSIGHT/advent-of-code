{
 "cells": [
  {
   "cell_type": "code",
   "execution_count": 1,
   "id": "32607512-ac68-4afb-9490-ba2a2b4ec8ad",
   "metadata": {
    "tags": []
   },
   "outputs": [],
   "source": [
    "import re\n",
    "import math\n",
    "import itertools"
   ]
  },
  {
   "cell_type": "code",
   "execution_count": 2,
   "id": "17dc3833-ee69-4028-bd4b-25b4f3b3a776",
   "metadata": {
    "tags": []
   },
   "outputs": [],
   "source": [
    "data = open('data/day8.txt', 'r').read()"
   ]
  },
  {
   "cell_type": "code",
   "execution_count": 3,
   "id": "7ff68552-c7c1-4562-b216-ffcd0af53cc1",
   "metadata": {
    "tags": []
   },
   "outputs": [],
   "source": [
    "example1 = \"\"\"RL\n",
    "\n",
    "AAA = (BBB, CCC)\n",
    "BBB = (DDD, EEE)\n",
    "CCC = (ZZZ, GGG)\n",
    "DDD = (DDD, DDD)\n",
    "EEE = (EEE, EEE)\n",
    "GGG = (GGG, GGG)\n",
    "ZZZ = (ZZZ, ZZZ\"\"\""
   ]
  },
  {
   "cell_type": "code",
   "execution_count": 4,
   "id": "4caca588-fed9-4183-8e30-1322f7fc74e6",
   "metadata": {
    "scrolled": true,
    "tags": []
   },
   "outputs": [],
   "source": [
    "example2 = \"\"\"LLR\n",
    "\n",
    "AAA = (BBB, BBB)\n",
    "BBB = (AAA, ZZZ)\n",
    "ZZZ = (ZZZ, ZZZ)\"\"\""
   ]
  },
  {
   "cell_type": "code",
   "execution_count": 5,
   "id": "8a00a02e-2c67-45ea-86d5-4ac971f83294",
   "metadata": {
    "tags": []
   },
   "outputs": [],
   "source": [
    "example3 = \"\"\"LR\n",
    "\n",
    "11A = (11B, XXX)\n",
    "11B = (XXX, 11Z)\n",
    "11Z = (11B, XXX)\n",
    "22A = (22B, XXX)\n",
    "22B = (22C, 22C)\n",
    "22C = (22Z, 22Z)\n",
    "22Z = (22B, 22B)\n",
    "XXX = (XXX, XXX)\"\"\""
   ]
  },
  {
   "cell_type": "code",
   "execution_count": 6,
   "id": "2dfd43e3-c790-400b-8188-7e2e841b362b",
   "metadata": {
    "tags": []
   },
   "outputs": [],
   "source": [
    "def parse_input(data):\n",
    "    instructions, nodes = data.split('\\n\\n')\n",
    "    network = {}\n",
    "    for node in nodes.split('\\n'):\n",
    "        curr, left, right = re.findall(\"\\w+\", node)\n",
    "        network[curr] = {'L': left, 'R': right}\n",
    "    \n",
    "    return instructions.strip(), network"
   ]
  },
  {
   "cell_type": "code",
   "execution_count": 7,
   "id": "48b9284c-895c-496f-a6a0-f55b22325ee0",
   "metadata": {
    "tags": []
   },
   "outputs": [],
   "source": [
    "def follow_instructions(instructions, network, source, sink):\n",
    "    steps = 0\n",
    "    curr = source\n",
    "    while curr != sink:\n",
    "        for direction in instructions:\n",
    "            next_node = network[curr][direction]\n",
    "            curr = next_node\n",
    "            steps += 1\n",
    "            if curr == sink:\n",
    "                return steps "
   ]
  },
  {
   "cell_type": "code",
   "execution_count": 8,
   "id": "d0872064-acf2-401f-a995-77c412708f9e",
   "metadata": {
    "tags": []
   },
   "outputs": [
    {
     "data": {
      "text/plain": [
       "14429"
      ]
     },
     "execution_count": 8,
     "metadata": {},
     "output_type": "execute_result"
    }
   ],
   "source": [
    "def part1(data):\n",
    "    instructions, network = parse_input(data)\n",
    "    steps = follow_instructions(instructions, network, 'AAA', 'ZZZ')\n",
    "    \n",
    "    return steps\n",
    "part1(data)"
   ]
  },
  {
   "cell_type": "code",
   "execution_count": 9,
   "id": "a2c3f3f9-a61b-4c79-813a-d9a251e90e96",
   "metadata": {
    "tags": []
   },
   "outputs": [],
   "source": [
    "def find_path(instructions, network, source, sink):\n",
    "    steps = 0\n",
    "    curr = source\n",
    "    visits = {}\n",
    "    graph_loops = {}\n",
    "    loops = 0\n",
    "    while curr != sink:\n",
    "        for index, direction in enumerate(instructions):\n",
    "            path = instructions * loops + instructions[:index]  # Get full path since beginning\n",
    "            # Add/Update most recent visit's full path\n",
    "            if curr not in visits:\n",
    "                visits[curr] = path\n",
    "            else:\n",
    "                # Add path between visits to self to graph loops\n",
    "                path_to_self = path.replace(visits[curr], '')                \n",
    "                if curr not in graph_loops:\n",
    "                    graph_loops[curr] = [path_to_self]\n",
    "                else:\n",
    "                    # Return None if we revisit the node with a prior loop path\n",
    "                    if path_to_self in graph_loops[curr]:\n",
    "                        return None\n",
    "                    else:\n",
    "                        graph_loops[curr].append(path_to_self)\n",
    "                visits[curr] = path\n",
    "            next_node = network[curr][direction]\n",
    "            curr = next_node\n",
    "            steps += 1\n",
    "            # Return number of steps taken if we hit the sink\n",
    "            if curr == sink:\n",
    "                return steps\n",
    "        loops += 1"
   ]
  },
  {
   "cell_type": "code",
   "execution_count": 10,
   "id": "23f1335f-52e9-442d-91ac-52e7799c5252",
   "metadata": {
    "tags": []
   },
   "outputs": [],
   "source": [
    "def get_viable_path_lengths(instructions, network, source_nodes, sink_nodes):\n",
    "    viable_path_lengths = {source: [] for source in source_nodes}\n",
    "    for (source, sink) in list(itertools.product(source_nodes, sink_nodes)):\n",
    "        path_length = find_path(instructions, network, source, sink)\n",
    "        if path_length is not None:\n",
    "            viable_path_lengths[source].append(path_length)\n",
    "    \n",
    "    return viable_path_lengths       \n",
    "                   "
   ]
  },
  {
   "cell_type": "code",
   "execution_count": null,
   "id": "7f91b1c7-ef9e-42a5-9a9d-ab8c133c239a",
   "metadata": {
    "tags": []
   },
   "outputs": [],
   "source": [
    "def part2(data):\n",
    "    instructions, network = parse_input(data)\n",
    "    source_nodes = [key for key in network.keys() if key[-1] == 'A']\n",
    "    sink_nodes = [key for key in network.keys() if key[-1] == 'Z']\n",
    "    viable_path_lengths = get_viable_path_lengths(instructions, network, source_nodes, sink_nodes)\n",
    "    minimum_paths = [min(viable_path_lengths[source]) for source in viable_path_lengths]\n",
    "    # The lcm of the minimum paths from each source node represents when they will first simultaneously reach a sink node\n",
    "    lcm = 1\n",
    "    for path_length in minimum_paths:\n",
    "        lcm = math.lcm(lcm, path_length)\n",
    "\n",
    "    return lcm\n",
    "part2(data)"
   ]
  },
  {
   "cell_type": "code",
   "execution_count": null,
   "id": "9d1f5100-f0af-4abe-a1c0-4cdd7c399e6c",
   "metadata": {},
   "outputs": [],
   "source": []
  }
 ],
 "metadata": {
  "kernelspec": {
   "display_name": "Python 3 (ipykernel)",
   "language": "python",
   "name": "python3"
  },
  "language_info": {
   "codemirror_mode": {
    "name": "ipython",
    "version": 3
   },
   "file_extension": ".py",
   "mimetype": "text/x-python",
   "name": "python",
   "nbconvert_exporter": "python",
   "pygments_lexer": "ipython3",
   "version": "3.10.11"
  }
 },
 "nbformat": 4,
 "nbformat_minor": 5
}
