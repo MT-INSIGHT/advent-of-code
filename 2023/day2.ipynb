{
 "cells": [
  {
   "cell_type": "code",
   "execution_count": 1,
   "id": "17dc3833-ee69-4028-bd4b-25b4f3b3a776",
   "metadata": {
    "tags": []
   },
   "outputs": [],
   "source": [
    "data = open('data/day2.txt', 'r').read()"
   ]
  },
  {
   "cell_type": "code",
   "execution_count": 2,
   "id": "4caca588-fed9-4183-8e30-1322f7fc74e6",
   "metadata": {
    "tags": []
   },
   "outputs": [],
   "source": [
    "example = \"\"\"Game 1: 3 blue, 4 red; 1 red, 2 green, 6 blue; 2 green\n",
    "Game 2: 1 blue, 2 green; 3 green, 4 blue, 1 red; 1 green, 1 blue\n",
    "Game 3: 8 green, 6 blue, 20 red; 5 blue, 4 red, 13 green; 5 green, 1 red\n",
    "Game 4: 1 green, 3 red, 6 blue; 3 green, 6 red; 3 green, 15 blue, 14 red\n",
    "Game 5: 6 red, 1 blue, 3 green; 2 blue, 1 red, 2 green\"\"\""
   ]
  },
  {
   "cell_type": "code",
   "execution_count": 3,
   "id": "f029117b-5f70-47f6-bb02-15d6194e35ef",
   "metadata": {
    "tags": []
   },
   "outputs": [
    {
     "data": {
      "text/plain": [
       "2105"
      ]
     },
     "execution_count": 3,
     "metadata": {},
     "output_type": "execute_result"
    }
   ],
   "source": [
    "def part1(data, cube_limits):\n",
    "    possible_ids = []\n",
    "    for line in data.split('\\n'):\n",
    "        game_id, rounds = line.split(': ')\n",
    "        game_id = int(game_id.split('Game ')[1])\n",
    "        possible = True\n",
    "        for game_round in rounds.split('; '):\n",
    "            color_counts = {}\n",
    "            for cube_type in game_round.split(', '):\n",
    "                num_cubes, color = cube_type.split(' ')\n",
    "                color_counts[color] = int(num_cubes)\n",
    "            if any (color_counts[color] > cube_limits[color] for color in color_counts):\n",
    "                possible = False\n",
    "                break\n",
    "        if possible: \n",
    "            possible_ids.append(game_id)\n",
    "    return possible_ids\n",
    "sum(part1(data, {'red': 12, 'green': 13, 'blue': 14}))"
   ]
  },
  {
   "cell_type": "code",
   "execution_count": 4,
   "id": "080b7b92-3502-4fe1-87b6-1a92d24475a7",
   "metadata": {
    "tags": []
   },
   "outputs": [
    {
     "data": {
      "text/plain": [
       "72422"
      ]
     },
     "execution_count": 4,
     "metadata": {},
     "output_type": "execute_result"
    }
   ],
   "source": [
    "def part2(data):\n",
    "    all_game_powers = []\n",
    "    for line in data.split('\\n'):\n",
    "        game_id, rounds = line.split(': ')\n",
    "        game_id = int(game_id.split('Game ')[1])\n",
    "        possible = True\n",
    "        color_counts = {color: 0 for color in ['red', 'green', 'blue']}\n",
    "        for game_round in rounds.split('; '):\n",
    "            for cube_type in game_round.split(', '):\n",
    "                num_cubes, color = cube_type.split(' ')\n",
    "                if int(num_cubes) > color_counts[color]:\n",
    "                    color_counts[color] = int(num_cubes)\n",
    "        game_power = 1\n",
    "        for color in color_counts:\n",
    "            game_power *= color_counts[color]\n",
    "        all_game_powers.append(game_power)\n",
    "    return all_game_powers\n",
    "sum(part2(data))"
   ]
  },
  {
   "cell_type": "code",
   "execution_count": null,
   "id": "6059848b-f193-4fe2-a803-db88f4396637",
   "metadata": {},
   "outputs": [],
   "source": []
  }
 ],
 "metadata": {
  "kernelspec": {
   "display_name": "Python 3 (ipykernel)",
   "language": "python",
   "name": "python3"
  },
  "language_info": {
   "codemirror_mode": {
    "name": "ipython",
    "version": 3
   },
   "file_extension": ".py",
   "mimetype": "text/x-python",
   "name": "python",
   "nbconvert_exporter": "python",
   "pygments_lexer": "ipython3",
   "version": "3.10.11"
  }
 },
 "nbformat": 4,
 "nbformat_minor": 5
}
