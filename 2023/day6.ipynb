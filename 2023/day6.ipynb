{
 "cells": [
  {
   "cell_type": "code",
   "execution_count": 1,
   "id": "77edb324-7aaa-4a2e-bd78-7cc44514be86",
   "metadata": {
    "tags": []
   },
   "outputs": [],
   "source": [
    "import numpy as np\n",
    "import re"
   ]
  },
  {
   "cell_type": "code",
   "execution_count": 2,
   "id": "17dc3833-ee69-4028-bd4b-25b4f3b3a776",
   "metadata": {
    "tags": []
   },
   "outputs": [],
   "source": [
    "data = open('data/day6.txt', 'r').read()"
   ]
  },
  {
   "cell_type": "code",
   "execution_count": 3,
   "id": "4caca588-fed9-4183-8e30-1322f7fc74e6",
   "metadata": {
    "scrolled": true,
    "tags": []
   },
   "outputs": [],
   "source": [
    "example = \"\"\"Time:      7  15   30\n",
    "Distance:  9  40  200\"\"\""
   ]
  },
  {
   "cell_type": "code",
   "execution_count": 4,
   "id": "f029117b-5f70-47f6-bb02-15d6194e35ef",
   "metadata": {
    "tags": []
   },
   "outputs": [
    {
     "data": {
      "text/plain": [
       "2269432"
      ]
     },
     "execution_count": 4,
     "metadata": {},
     "output_type": "execute_result"
    }
   ],
   "source": [
    "def part1(data):\n",
    "    # Parse times and distances\n",
    "    time_line, distance_line = data.split('\\n')\n",
    "    times = [int(time) for time in re.findall('\\d+', time_line)]\n",
    "    distances = [int(distance) for distance in re.findall('\\d+', distance_line)]\n",
    "\n",
    "    all_win_methods = []\n",
    "    for index, time in enumerate(times):\n",
    "        win_methods = 0\n",
    "        # Loop through rates that will lead to some distance traveled\n",
    "        for hold in range(1, time):\n",
    "            remaining_time = time - hold\n",
    "            traveled = remaining_time * hold\n",
    "            if traveled > distances[index]:\n",
    "                win_methods += 1\n",
    "        all_win_methods.append(win_methods)\n",
    "    \n",
    "    return all_win_methods\n",
    "np.prod(part1(data))  # take the product of the values of each "
   ]
  },
  {
   "cell_type": "code",
   "execution_count": 5,
   "id": "080b7b92-3502-4fe1-87b6-1a92d24475a7",
   "metadata": {
    "tags": []
   },
   "outputs": [
    {
     "data": {
      "text/plain": [
       "35865985"
      ]
     },
     "execution_count": 5,
     "metadata": {},
     "output_type": "execute_result"
    }
   ],
   "source": [
    "def part2(data):\n",
    "    # Parse time and distance\n",
    "    time_line, distance_line = data.split('\\n')\n",
    "    time = int(''.join(re.findall('\\d+', time_line)))\n",
    "    distance = int(''.join(re.findall('\\d+', distance_line)))\n",
    "\n",
    "    # Find the first hold time that would beat the record\n",
    "    first, last = 0, 0\n",
    "    for hold in range(1, time):\n",
    "        remaining_time = time - hold\n",
    "        traveled = remaining_time * hold\n",
    "        if traveled > distance:\n",
    "            first = hold\n",
    "            break\n",
    "    # Find the last hold time that would beat the record\n",
    "    for hold in range(time - 1, 0, -1):\n",
    "        remaining_time = time - hold\n",
    "        traveled = remaining_time * hold\n",
    "        if traveled > distance:\n",
    "            last = hold\n",
    "            break\n",
    "            \n",
    "    win_methods = last - first + 1\n",
    "    \n",
    "    return win_methods\n",
    "part2(data)"
   ]
  },
  {
   "cell_type": "code",
   "execution_count": null,
   "id": "0a86e79d-3632-4ccf-b567-9e4e7cbf77ee",
   "metadata": {},
   "outputs": [],
   "source": []
  }
 ],
 "metadata": {
  "kernelspec": {
   "display_name": "Python 3 (ipykernel)",
   "language": "python",
   "name": "python3"
  },
  "language_info": {
   "codemirror_mode": {
    "name": "ipython",
    "version": 3
   },
   "file_extension": ".py",
   "mimetype": "text/x-python",
   "name": "python",
   "nbconvert_exporter": "python",
   "pygments_lexer": "ipython3",
   "version": "3.10.11"
  }
 },
 "nbformat": 4,
 "nbformat_minor": 5
}
