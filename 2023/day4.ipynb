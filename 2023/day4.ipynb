{
 "cells": [
  {
   "cell_type": "code",
   "execution_count": 1,
   "id": "77edb324-7aaa-4a2e-bd78-7cc44514be86",
   "metadata": {
    "tags": []
   },
   "outputs": [],
   "source": [
    "import re"
   ]
  },
  {
   "cell_type": "code",
   "execution_count": 2,
   "id": "17dc3833-ee69-4028-bd4b-25b4f3b3a776",
   "metadata": {
    "tags": []
   },
   "outputs": [],
   "source": [
    "data = open('data/day4.txt', 'r').read()"
   ]
  },
  {
   "cell_type": "code",
   "execution_count": 3,
   "id": "4caca588-fed9-4183-8e30-1322f7fc74e6",
   "metadata": {
    "tags": []
   },
   "outputs": [],
   "source": [
    "example = \"\"\"Card 1: 41 48 83 86 17 | 83 86  6 31 17  9 48 53\n",
    "Card 2: 13 32 20 16 61 | 61 30 68 82 17 32 24 19\n",
    "Card 3:  1 21 53 59 44 | 69 82 63 72 16 21 14  1\n",
    "Card 4: 41 92 73 84 69 | 59 84 76 51 58  5 54 83\n",
    "Card 5: 87 83 26 28 32 | 88 30 70 12 93 22 82 36\n",
    "Card 6: 31 18 13 56 72 | 74 77 10 23 35 67 36 11\"\"\""
   ]
  },
  {
   "cell_type": "code",
   "execution_count": 4,
   "id": "f029117b-5f70-47f6-bb02-15d6194e35ef",
   "metadata": {
    "tags": []
   },
   "outputs": [
    {
     "data": {
      "text/plain": [
       "20667"
      ]
     },
     "execution_count": 4,
     "metadata": {},
     "output_type": "execute_result"
    }
   ],
   "source": [
    "def part1(data):\n",
    "    points = []\n",
    "    for card in data.split('\\n'):\n",
    "        # Find winning numbers among our chosen numbers on each card\n",
    "        card_num, numbers = card.split(': ')\n",
    "        winning, chosen = numbers.split(' | ')\n",
    "        winning_nums = [int(num.strip()) for num in re.findall('\\d+', winning)]\n",
    "        chosen_nums = [int(num.strip()) for num in re.findall('\\d+', chosen)]\n",
    "        chosen_winning_nums = [num for num in chosen_nums if num in winning_nums]\n",
    "        # Add points for cards with winning numbers\n",
    "        if len(chosen_winning_nums) > 0:\n",
    "            points.append(2**(len(chosen_winning_nums) - 1))  # points = 2 ^ (winning_nums - 1)\n",
    "    \n",
    "    return points\n",
    "\n",
    "sum(part1(data))"
   ]
  },
  {
   "cell_type": "code",
   "execution_count": 5,
   "id": "080b7b92-3502-4fe1-87b6-1a92d24475a7",
   "metadata": {
    "tags": []
   },
   "outputs": [
    {
     "data": {
      "text/plain": [
       "5833065"
      ]
     },
     "execution_count": 5,
     "metadata": {},
     "output_type": "execute_result"
    }
   ],
   "source": [
    "def part2(data):\n",
    "    card_spawns = {}\n",
    "    # Get the set of spawned cards for each original card\n",
    "    for card in data.split('\\n'):\n",
    "        # Find winning numbers among our chosen numbers on each card\n",
    "        card_num, numbers = card.split(': ')\n",
    "        card_num = int(card_num.replace('Card ', ''))\n",
    "        winning, chosen = numbers.split(' | ')\n",
    "        winning_nums = [int(num.strip()) for num in re.findall('\\d+', winning)]\n",
    "        chosen_nums = [int(num.strip()) for num in re.findall('\\d+', chosen)]\n",
    "        chosen_winning_nums = [num for num in chosen_nums if num in winning_nums]\n",
    "        # Add spawned cards for each original card\n",
    "        if len(chosen_winning_nums) > 0:\n",
    "            visited = list(range(card_num + 1, card_num + len(chosen_winning_nums) + 1))\n",
    "            card_spawns[card_num] = visited \n",
    "        else:\n",
    "            card_spawns[card_num] = []\n",
    "    \n",
    "    # Get the full set of cards, original and spawned\n",
    "    total_cards = []\n",
    "    stack = list(card_spawns.keys())  # Add original cards to stack\n",
    "    while len(stack) != 0:\n",
    "        card = stack.pop()  # Grab card from stack\n",
    "        total_cards.append(card)  # Add grabbed card to total_cards list\n",
    "        stack += card_spawns[card]  # Add cards spawned from the grabbed card to the stack\n",
    "    \n",
    "    return total_cards\n",
    "\n",
    "len(part2(data))"
   ]
  },
  {
   "cell_type": "code",
   "execution_count": null,
   "id": "2990b8ce-2613-4376-a8aa-a2d0cc56e112",
   "metadata": {},
   "outputs": [],
   "source": []
  }
 ],
 "metadata": {
  "kernelspec": {
   "display_name": "Python 3 (ipykernel)",
   "language": "python",
   "name": "python3"
  },
  "language_info": {
   "codemirror_mode": {
    "name": "ipython",
    "version": 3
   },
   "file_extension": ".py",
   "mimetype": "text/x-python",
   "name": "python",
   "nbconvert_exporter": "python",
   "pygments_lexer": "ipython3",
   "version": "3.10.11"
  }
 },
 "nbformat": 4,
 "nbformat_minor": 5
}
