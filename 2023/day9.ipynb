{
 "cells": [
  {
   "cell_type": "code",
   "execution_count": 1,
   "id": "32607512-ac68-4afb-9490-ba2a2b4ec8ad",
   "metadata": {
    "tags": []
   },
   "outputs": [],
   "source": [
    "import re"
   ]
  },
  {
   "cell_type": "code",
   "execution_count": 2,
   "id": "17dc3833-ee69-4028-bd4b-25b4f3b3a776",
   "metadata": {
    "tags": []
   },
   "outputs": [],
   "source": [
    "data = open('data/day9.txt', 'r').read()"
   ]
  },
  {
   "cell_type": "code",
   "execution_count": 3,
   "id": "7ff68552-c7c1-4562-b216-ffcd0af53cc1",
   "metadata": {
    "tags": []
   },
   "outputs": [],
   "source": [
    "example = \"\"\"0 3 6 9 12 15\n",
    "1 3 6 10 15 21\n",
    "10 13 16 21 30 45\"\"\""
   ]
  },
  {
   "cell_type": "code",
   "execution_count": 4,
   "id": "5387bf33-156a-473a-850b-dba09cfcfcc4",
   "metadata": {
    "tags": []
   },
   "outputs": [
    {
     "data": {
      "text/plain": [
       "1731106378"
      ]
     },
     "execution_count": 4,
     "metadata": {},
     "output_type": "execute_result"
    }
   ],
   "source": [
    "def part1(data):\n",
    "    \"\"\"\n",
    "    This algorithm operates off the fact that we ultimately only need to sum the last values in each difference sequence\n",
    "    \"\"\"\n",
    "    sequences = [[int(val) for val in re.findall('-\\d+|\\d+', history)] for history in data.split('\\n')]\n",
    "    next_values = {}\n",
    "    for index, original_sequence in enumerate(sequences):\n",
    "        last_values = []\n",
    "        sequence = original_sequence\n",
    "        while any([val != 0 for val in sequence]):\n",
    "            # Add last value in current row to list\n",
    "            last_values.append(sequence[-1])\n",
    "            # Take the difference between row elements to produce the next sequence\n",
    "            sequence = [sequence[i] - sequence[i-1] for i in range(1, len(sequence))]\n",
    "        next_values[index] = sum(last_values)  # The sum of our last values is the next value of the top row\n",
    "    return next_values\n",
    "sum(part1(data).values())"
   ]
  },
  {
   "cell_type": "code",
   "execution_count": 5,
   "id": "b91e0a00-09e7-43af-90ca-80136d1e7432",
   "metadata": {
    "tags": []
   },
   "outputs": [
    {
     "data": {
      "text/plain": [
       "1087"
      ]
     },
     "execution_count": 5,
     "metadata": {},
     "output_type": "execute_result"
    }
   ],
   "source": [
    "def part2(data):\n",
    "    \"\"\"\n",
    "    This algorithm operates off the fact that we ultimately only need to take the difference between the sums of the first values of the even and odd rows\n",
    "    \"\"\"\n",
    "    sequences = [[int(val) for val in re.findall('-\\d+|\\d+', history)] for history in data.split('\\n')]\n",
    "    prior_values = {}\n",
    "    for index, original_sequence in enumerate(sequences):\n",
    "        first_values = []\n",
    "        sequence = original_sequence\n",
    "        while any([val != 0 for val in sequence]):\n",
    "            # Add first value in current row to list\n",
    "            first_values.append(sequence[0])\n",
    "            # Take the difference between row elements to produce the next sequence\n",
    "            sequence = [sequence[i] - sequence[i-1] for i in range(1, len(sequence))]\n",
    "        evens = [value for index, value in enumerate(first_values) if index % 2 == 0]\n",
    "        odds = [value for index, value in enumerate(first_values) if index % 2 != 0]\n",
    "        prior_values[index] = sum(evens) - sum(odds)  # The difference between the sums of the even first values and odd virst values is the prior value of the top row\n",
    "    return prior_values\n",
    "sum(part2(data).values())"
   ]
  }
 ],
 "metadata": {
  "kernelspec": {
   "display_name": "Python 3 (ipykernel)",
   "language": "python",
   "name": "python3"
  },
  "language_info": {
   "codemirror_mode": {
    "name": "ipython",
    "version": 3
   },
   "file_extension": ".py",
   "mimetype": "text/x-python",
   "name": "python",
   "nbconvert_exporter": "python",
   "pygments_lexer": "ipython3",
   "version": "3.10.11"
  }
 },
 "nbformat": 4,
 "nbformat_minor": 5
}
